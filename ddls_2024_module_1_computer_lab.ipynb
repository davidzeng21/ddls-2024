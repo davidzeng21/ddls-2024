{
  "nbformat": 4,
  "nbformat_minor": 0,
  "metadata": {
    "colab": {
      "provenance": [],
      "toc_visible": true,
      "authorship_tag": "ABX9TyOFLJVkGGQXAkVG+NETorRj",
      "include_colab_link": true
    },
    "kernelspec": {
      "name": "python3",
      "display_name": "Python 3"
    },
    "language_info": {
      "name": "python"
    }
  },
  "cells": [
    {
      "cell_type": "markdown",
      "metadata": {
        "id": "view-in-github",
        "colab_type": "text"
      },
      "source": [
        "<a href=\"https://colab.research.google.com/github/davidzeng21/ddls-2024/blob/main/ddls_2024_module_1_computer_lab.ipynb\" target=\"_parent\"><img src=\"https://colab.research.google.com/assets/colab-badge.svg\" alt=\"Open In Colab\"/></a>"
      ]
    },
    {
      "cell_type": "code",
      "execution_count": null,
      "metadata": {
        "colab": {
          "base_uri": "https://localhost:8080/"
        },
        "id": "dNltTHHVroJl",
        "outputId": "b5683c13-71e8-46f3-89e0-eefbb069f720"
      },
      "outputs": [
        {
          "output_type": "stream",
          "name": "stdout",
          "text": [
            "Hello, World!\n"
          ]
        }
      ],
      "source": [
        "print(\"Hello, World!\")\n"
      ]
    },
    {
      "cell_type": "code",
      "source": [
        "import numpy as np\n",
        "\n",
        "# Create a 1D array\n",
        "array = np.array([1, 2, 3, 4, 5])\n",
        "\n",
        "# Perform an operation: addition\n",
        "result = array + 5\n",
        "print(result)\n"
      ],
      "metadata": {
        "colab": {
          "base_uri": "https://localhost:8080/"
        },
        "id": "hDiGXagLrvQg",
        "outputId": "a79d0033-6f42-49ed-d5b9-722915856ff2"
      },
      "execution_count": null,
      "outputs": [
        {
          "output_type": "stream",
          "name": "stdout",
          "text": [
            "[ 6  7  8  9 10]\n"
          ]
        }
      ]
    },
    {
      "cell_type": "code",
      "source": [
        "array_1 = np.array([6,7,8,9,10])\n",
        "\n",
        "result_1 = array_1 -5\n",
        "print(result_1)"
      ],
      "metadata": {
        "colab": {
          "base_uri": "https://localhost:8080/"
        },
        "id": "7frm6vdarw3Z",
        "outputId": "b3e6532b-5179-433c-9840-22c1e7dd463f"
      },
      "execution_count": null,
      "outputs": [
        {
          "output_type": "stream",
          "name": "stdout",
          "text": [
            "[1 2 3 4 5]\n"
          ]
        }
      ]
    },
    {
      "cell_type": "code",
      "source": [
        "import torch\n",
        "\n",
        "# Check PyTorch version\n",
        "print(torch.__version__)\n"
      ],
      "metadata": {
        "colab": {
          "base_uri": "https://localhost:8080/"
        },
        "id": "qO4rEwcbr9xN",
        "outputId": "8955034b-39f5-4e39-c31d-e4e1393f4a6d"
      },
      "execution_count": null,
      "outputs": [
        {
          "output_type": "stream",
          "name": "stdout",
          "text": [
            "2.4.0+cu121\n"
          ]
        }
      ]
    },
    {
      "cell_type": "code",
      "source": [
        "# Create a 1D tensor\n",
        "tensor_a = torch.tensor([1, 2, 3, 4, 5])\n",
        "\n",
        "# Perform an operation: addition\n",
        "tensor_b = tensor_a + 5\n",
        "print(tensor_b)\n"
      ],
      "metadata": {
        "colab": {
          "base_uri": "https://localhost:8080/"
        },
        "id": "c_cKLofMsThO",
        "outputId": "5658ed32-b5be-423b-a26f-77272a5539fc"
      },
      "execution_count": null,
      "outputs": [
        {
          "output_type": "stream",
          "name": "stdout",
          "text": [
            "tensor([ 6,  7,  8,  9, 10])\n"
          ]
        }
      ]
    },
    {
      "cell_type": "code",
      "source": [
        "# Convert a NumPy array to a PyTorch tensor\n",
        "numpy_array = np.array([10, 20, 30, 40, 50])\n",
        "tensor_from_numpy = torch.from_numpy(numpy_array)\n",
        "\n",
        "# Convert a PyTorch tensor back to a NumPy array\n",
        "numpy_from_tensor = tensor_from_numpy.numpy()\n",
        "\n",
        "print(f\"Tensor: {tensor_from_numpy}\")\n",
        "print(f\"NumPy Array: {numpy_from_tensor}\")\n"
      ],
      "metadata": {
        "colab": {
          "base_uri": "https://localhost:8080/"
        },
        "id": "ZDFq7Y8bscN2",
        "outputId": "1272bcaf-24bf-48f1-a098-a5d113275ae6"
      },
      "execution_count": null,
      "outputs": [
        {
          "output_type": "stream",
          "name": "stdout",
          "text": [
            "Tensor: tensor([10, 20, 30, 40, 50])\n",
            "NumPy Array: [10 20 30 40 50]\n"
          ]
        }
      ]
    },
    {
      "cell_type": "code",
      "source": [
        "tensor_c = torch.tensor([11,22,33,44,55])\n",
        "\n",
        "tensor_d = tensor_c + 5\n",
        "\n",
        "array_d = tensor_d.numpy()\n",
        "\n",
        "print(array_d)"
      ],
      "metadata": {
        "colab": {
          "base_uri": "https://localhost:8080/"
        },
        "id": "f4IqbkOwsvW7",
        "outputId": "a963c891-e790-4878-a0d4-4192cb350b66"
      },
      "execution_count": null,
      "outputs": [
        {
          "output_type": "stream",
          "name": "stdout",
          "text": [
            "[16 27 38 49 60]\n"
          ]
        }
      ]
    },
    {
      "cell_type": "code",
      "source": [
        "import numpy as np\n",
        "import matplotlib.pyplot as plt\n",
        "\n",
        "# Generate random data\n",
        "data = np.random.randn(10**6)\n",
        "\n",
        "# Perform basic analysis\n",
        "mean = np.mean(data)\n",
        "median = np.median(data)\n",
        "std_dev = np.std(data)\n",
        "\n",
        "# Plot the data\n",
        "plt.hist(data, bins=20)\n",
        "plt.title('Random Data Distribution')\n",
        "plt.show()\n",
        "\n",
        "print(f\"Mean: {mean}, Median: {median}, Standard Deviation: {std_dev}\")\n"
      ],
      "metadata": {
        "colab": {
          "base_uri": "https://localhost:8080/",
          "height": 469
        },
        "id": "R0iQPqVXwGMF",
        "outputId": "8bdc1d4c-b389-4a44-ba7e-50d439e7202b"
      },
      "execution_count": null,
      "outputs": [
        {
          "output_type": "display_data",
          "data": {
            "text/plain": [
              "<Figure size 640x480 with 1 Axes>"
            ],
            "image/png": "[encoded data removed]"
          },
          "metadata": {}
        },
        {
          "output_type": "stream",
          "name": "stdout",
          "text": [
            "Mean: -0.0008274825755428609, Median: -0.0012294403469439753, Standard Deviation: 1.0003438864993277\n"
          ]
        }
      ]
    },
    {
      "cell_type": "markdown",
      "source": [
        "# Topic 5: Supervised Learning - Regression Analysis"
      ],
      "metadata": {
        "id": "uHkMIlRz2764"
      }
    },
    {
      "cell_type": "code",
      "source": [
        "import torch\n",
        "import numpy as np\n",
        "import torch.nn as nn\n",
        "import torch.optim as optim\n",
        "\n",
        "# Generate synthetic data\n",
        "np.random.seed(0)\n",
        "torch.manual_seed(0)\n",
        "\n",
        "# Features\n",
        "X = np.linspace(0, 10, 100).reshape(-1, 1)\n",
        "# Linear relation: y = 2*X + noise\n",
        "y = 2 * X + np.random.normal(0, 1, X.shape)\n",
        "\n",
        "# Convert to PyTorch tensors\n",
        "X_tensor = torch.tensor(X, dtype=torch.float32)\n",
        "y_tensor = torch.tensor(y, dtype=torch.float32)\n"
      ],
      "metadata": {
        "id": "R8LuKVKj26WC"
      },
      "execution_count": null,
      "outputs": []
    },
    {
      "cell_type": "code",
      "source": [
        "class LinearRegressionModel(nn.Module):\n",
        "    def __init__(self):\n",
        "        super(LinearRegressionModel, self).__init__()\n",
        "        self.linear = nn.Linear(1, 1)\n",
        "\n",
        "    def forward(self, x):\n",
        "        return self.linear(x)\n",
        "\n",
        "# Initialize the model, loss function, and optimizer\n",
        "model = LinearRegressionModel()\n",
        "criterion = nn.MSELoss()\n",
        "optimizer = optim.SGD(model.parameters(), lr=0.01)\n"
      ],
      "metadata": {
        "id": "gY5L4yjD3Ivp"
      },
      "execution_count": null,
      "outputs": []
    },
    {
      "cell_type": "code",
      "source": [
        "# Training loop\n",
        "epochs = 1000\n",
        "for epoch in range(epochs):\n",
        "    # Forward pass\n",
        "    outputs = model(X_tensor)\n",
        "    loss = criterion(outputs, y_tensor)\n",
        "\n",
        "    # Backward pass and optimization\n",
        "    optimizer.zero_grad()\n",
        "    loss.backward()\n",
        "    optimizer.step()\n",
        "\n",
        "    if (epoch+1) % 100 == 0:\n",
        "        print(f'Epoch [{epoch+1}/{epochs}], Loss: {loss.item():.4f}')\n"
      ],
      "metadata": {
        "colab": {
          "base_uri": "https://localhost:8080/"
        },
        "id": "uPMzti5KDiJ5",
        "outputId": "3b909657-3083-4f90-e7c6-0e6cced0e5b1"
      },
      "execution_count": null,
      "outputs": [
        {
          "output_type": "stream",
          "name": "stdout",
          "text": [
            "Epoch [100/1000], Loss: 1.0087\n",
            "Epoch [200/1000], Loss: 1.0084\n",
            "Epoch [300/1000], Loss: 1.0084\n",
            "Epoch [400/1000], Loss: 1.0083\n",
            "Epoch [500/1000], Loss: 1.0083\n",
            "Epoch [600/1000], Loss: 1.0083\n",
            "Epoch [700/1000], Loss: 1.0083\n",
            "Epoch [800/1000], Loss: 1.0083\n",
            "Epoch [900/1000], Loss: 1.0083\n",
            "Epoch [1000/1000], Loss: 1.0083\n"
          ]
        }
      ]
    },
    {
      "cell_type": "code",
      "source": [
        "import matplotlib.pyplot as plt\n",
        "\n",
        "# Predicted values\n",
        "predicted = model(X_tensor).detach().numpy()\n",
        "\n",
        "# Plot\n",
        "plt.plot(X, y, 'ro', label='Original data')\n",
        "plt.plot(X, predicted, label='Fitted line')\n",
        "plt.legend()\n",
        "plt.show()\n"
      ],
      "metadata": {
        "colab": {
          "base_uri": "https://localhost:8080/",
          "height": 430
        },
        "id": "UNLXFtg-EkOl",
        "outputId": "04fccfe7-8f8c-48e2-9719-abf30b9f9302"
      },
      "execution_count": null,
      "outputs": [
        {
          "output_type": "display_data",
          "data": {
            "text/plain": [
              "<Figure size 640x480 with 1 Axes>"
            ],
            "image/png": "[encoded data removed]"
          },
          "metadata": {}
        }
      ]
    },
    {
      "cell_type": "markdown",
      "source": [
        "## Learning Rate Schedulers in PyTorch"
      ],
      "metadata": {
        "id": "M3SUkNrBF8xW"
      }
    },
    {
      "cell_type": "code",
      "source": [
        "import torch\n",
        "import numpy as np\n",
        "import torch.nn as nn\n",
        "import torch.optim as optim\n",
        "import matplotlib.pyplot as plt\n",
        "\n",
        "# Generate synthetic data\n",
        "np.random.seed(0)\n",
        "torch.manual_seed(0)\n",
        "\n",
        "X = np.linspace(0, 10, 100).reshape(-1, 1)\n",
        "y = 2 * X + np.random.normal(0, 1, X.shape)\n",
        "\n",
        "X_tensor = torch.tensor(X, dtype=torch.float32)\n",
        "y_tensor = torch.tensor(y, dtype=torch.float32)\n",
        "\n",
        "# Define the model\n",
        "class LinearRegressionModel(nn.Module):\n",
        "    def __init__(self):\n",
        "        super(LinearRegressionModel, self).__init__()\n",
        "        self.linear = nn.Linear(1, 1)\n",
        "\n",
        "    def forward(self, x):\n",
        "        return self.linear(x)\n",
        "\n",
        "model = LinearRegressionModel()\n",
        "criterion = nn.MSELoss()\n",
        "optimizer = optim.SGD(model.parameters(), lr=0.01)  # Start with a higher learning rate\n"
      ],
      "metadata": {
        "id": "qBLKgMtRFTnG"
      },
      "execution_count": null,
      "outputs": []
    },
    {
      "cell_type": "code",
      "source": [
        "# StepLR scheduler: Decay the learning rate by a factor of 0.1 every 100 epochs\n",
        "scheduler = optim.lr_scheduler.StepLR(optimizer, step_size=100, gamma=0.1)\n"
      ],
      "metadata": {
        "id": "HQvBfo0WGFFr"
      },
      "execution_count": null,
      "outputs": []
    },
    {
      "cell_type": "code",
      "source": [
        "# Training loop\n",
        "epochs = 500\n",
        "for epoch in range(epochs):\n",
        "    # Forward pass\n",
        "    outputs = model(X_tensor)\n",
        "    loss = criterion(outputs, y_tensor)\n",
        "\n",
        "    # Backward pass and optimization\n",
        "    optimizer.zero_grad()\n",
        "    loss.backward()\n",
        "    optimizer.step()\n",
        "\n",
        "    # Step the scheduler\n",
        "    scheduler.step()\n",
        "\n",
        "    # Print out the learning rate and loss\n",
        "    if (epoch+1) % 50 == 0:\n",
        "        print(f'Epoch [{epoch+1}/{epochs}], Loss: {loss.item():.4f}, LR: {scheduler.get_last_lr()[0]:.6f}')\n"
      ],
      "metadata": {
        "colab": {
          "base_uri": "https://localhost:8080/"
        },
        "id": "b9z3adoMGMYN",
        "outputId": "b995862b-c760-4e26-e8f4-0a46fa7ed9f1"
      },
      "execution_count": null,
      "outputs": [
        {
          "output_type": "stream",
          "name": "stdout",
          "text": [
            "Epoch [50/500], Loss: 1.0666, LR: 0.000000\n",
            "Epoch [100/500], Loss: 1.0437, LR: 0.000000\n",
            "Epoch [150/500], Loss: 1.0299, LR: 0.000000\n",
            "Epoch [200/500], Loss: 1.0214, LR: 0.000000\n",
            "Epoch [250/500], Loss: 1.0163, LR: 0.000000\n",
            "Epoch [300/500], Loss: 1.0132, LR: 0.000000\n",
            "Epoch [350/500], Loss: 1.0113, LR: 0.000000\n",
            "Epoch [400/500], Loss: 1.0101, LR: 0.000000\n",
            "Epoch [450/500], Loss: 1.0094, LR: 0.000000\n",
            "Epoch [500/500], Loss: 1.0090, LR: 0.000000\n"
          ]
        }
      ]
    },
    {
      "cell_type": "code",
      "source": [
        "# Predicted values\n",
        "predicted = model(X_tensor).detach().numpy()\n",
        "\n",
        "# Plot\n",
        "plt.plot(X, y, 'ro', label='Original data')\n",
        "plt.plot(X, predicted, label='Fitted line')\n",
        "plt.legend()\n",
        "plt.show()\n"
      ],
      "metadata": {
        "colab": {
          "base_uri": "https://localhost:8080/",
          "height": 430
        },
        "id": "wTRg3n9lHe56",
        "outputId": "1f565465-16bd-433a-8f62-b0a4265ad4c8"
      },
      "execution_count": null,
      "outputs": [
        {
          "output_type": "display_data",
          "data": {
            "text/plain": [
              "<Figure size 640x480 with 1 Axes>"
            ],
            "image/png": "[encoded data removed]"
          },
          "metadata": {}
        }
      ]
    },
    {
      "cell_type": "markdown",
      "source": [
        "# Topic 6: Supervised Learning - Classification"
      ],
      "metadata": {
        "id": "9MRt1Wg6Iikt"
      }
    },
    {
      "cell_type": "code",
      "source": [
        "import torch\n",
        "import numpy as np\n",
        "import matplotlib.pyplot as plt\n",
        "from sklearn.datasets import make_classification\n",
        "\n",
        "# Generate synthetic data\n",
        "np.random.seed(0)\n",
        "torch.manual_seed(0)\n",
        "\n",
        "X, y = make_classification(n_samples=100, n_features=2, n_informative=2, n_redundant=0, n_clusters_per_class=1, n_classes=2)\n",
        "X_tensor = torch.tensor(X, dtype=torch.float32)\n",
        "y_tensor = torch.tensor(y, dtype=torch.float32).reshape(-1, 1)\n",
        "\n",
        "# Plotting the data\n",
        "plt.scatter(X[:, 0], X[:, 1], c=y, cmap='viridis')\n",
        "plt.title('Synthetic Classification Data')\n",
        "plt.show()\n"
      ],
      "metadata": {
        "colab": {
          "base_uri": "https://localhost:8080/",
          "height": 452
        },
        "id": "XpeLJu_3IlhV",
        "outputId": "52e1bda8-fbce-422b-e9b6-c5dd64611b33"
      },
      "execution_count": null,
      "outputs": [
        {
          "output_type": "display_data",
          "data": {
            "text/plain": [
              "<Figure size 640x480 with 1 Axes>"
            ],
            "image/png": "[encoded data removed]"
          },
          "metadata": {}
        }
      ]
    },
    {
      "cell_type": "code",
      "source": [
        "class SimpleNN(nn.Module):\n",
        "    def __init__(self):\n",
        "        super(SimpleNN, self).__init__()\n",
        "        self.layer1 = nn.Linear(2, 4)\n",
        "        self.layer2 = nn.Linear(4, 1)\n",
        "        self.sigmoid = nn.Sigmoid()\n",
        "\n",
        "    def forward(self, x):\n",
        "        x = torch.relu(self.layer1(x))\n",
        "        x = self.sigmoid(self.layer2(x))\n",
        "        return x\n",
        "\n",
        "model = SimpleNN()\n",
        "criterion = nn.BCELoss()\n",
        "optimizer = optim.SGD(model.parameters(), lr=0.01)\n"
      ],
      "metadata": {
        "id": "Y161ibReInTy"
      },
      "execution_count": null,
      "outputs": []
    },
    {
      "cell_type": "code",
      "source": [
        "epochs = 1000\n",
        "for epoch in range(epochs):\n",
        "    # Forward pass\n",
        "    outputs = model(X_tensor)\n",
        "    loss = criterion(outputs, y_tensor)\n",
        "\n",
        "    # Backward pass and optimization\n",
        "    optimizer.zero_grad()\n",
        "    loss.backward()\n",
        "    optimizer.step()\n",
        "\n",
        "    if (epoch+1) % 100 == 0:\n",
        "        print(f'Epoch [{epoch+1}/{epochs}], Loss: {loss.item():.4f}')\n"
      ],
      "metadata": {
        "colab": {
          "base_uri": "https://localhost:8080/"
        },
        "id": "hds7kB_QItUf",
        "outputId": "62eac971-ec0b-4efc-ed54-2c8815894b87"
      },
      "execution_count": null,
      "outputs": [
        {
          "output_type": "stream",
          "name": "stdout",
          "text": [
            "Epoch [100/1000], Loss: 0.6668\n",
            "Epoch [200/1000], Loss: 0.6249\n",
            "Epoch [300/1000], Loss: 0.5658\n",
            "Epoch [400/1000], Loss: 0.4917\n",
            "Epoch [500/1000], Loss: 0.4174\n",
            "Epoch [600/1000], Loss: 0.3559\n",
            "Epoch [700/1000], Loss: 0.3112\n",
            "Epoch [800/1000], Loss: 0.2799\n",
            "Epoch [900/1000], Loss: 0.2580\n",
            "Epoch [1000/1000], Loss: 0.2421\n"
          ]
        }
      ]
    },
    {
      "cell_type": "code",
      "source": [
        "# Plotting decision boundary\n",
        "def plot_decision_boundary(model, X, y):\n",
        "    x_min, x_max = X[:, 0].min() - 0.5, X[:, 0].max() + 0.5\n",
        "    y_min, y_max = X[:, 1].min() - 0.5, X[:, 1].max() + 0.5\n",
        "    xx, yy = np.meshgrid(np.arange(x_min, x_max, 0.01),\n",
        "                         np.arange(y_min, y_max, 0.01))\n",
        "    grid = torch.tensor(np.c_[xx.ravel(), yy.ravel()], dtype=torch.float32)\n",
        "    with torch.no_grad():\n",
        "        Z = model(grid).reshape(xx.shape)\n",
        "        Z = Z > 0.5\n",
        "    plt.contourf(xx, yy, Z, alpha=0.8, cmap='viridis')\n",
        "    plt.scatter(X[:, 0], X[:, 1], c=y, edgecolors='k', marker='o')\n",
        "    plt.title('Decision Boundary')\n",
        "    plt.show()\n",
        "\n",
        "plot_decision_boundary(model, X, y)\n"
      ],
      "metadata": {
        "colab": {
          "base_uri": "https://localhost:8080/",
          "height": 452
        },
        "id": "1PyweGV1Iuul",
        "outputId": "7e949ad1-ae27-4528-9c16-66c2f6049efd"
      },
      "execution_count": null,
      "outputs": [
        {
          "output_type": "display_data",
          "data": {
            "text/plain": [
              "<Figure size 640x480 with 1 Axes>"
            ],
            "image/png": "[encoded data removed]"
          },
          "metadata": {}
        }
      ]
    },
    {
      "cell_type": "code",
      "source": [
        "# Calculate accuracy\n",
        "with torch.no_grad():  # No need to track gradients for evaluation\n",
        "    predictions = model(X_tensor)\n",
        "    predicted_classes = (predictions > 0.5).float()  # Convert probabilities to binary class labels\n",
        "    accuracy = (predicted_classes == y_tensor).float().mean()\n",
        "\n",
        "print(f'Accuracy: {accuracy:.4f}')\n"
      ],
      "metadata": {
        "colab": {
          "base_uri": "https://localhost:8080/"
        },
        "id": "m0QSYJi6Noze",
        "outputId": "1e0e0e9a-055b-4707-f1ca-327aa4e6bf42"
      },
      "execution_count": null,
      "outputs": [
        {
          "output_type": "stream",
          "name": "stdout",
          "text": [
            "Accuracy: 0.9500\n"
          ]
        }
      ]
    },
    {
      "cell_type": "code",
      "source": [
        "from sklearn.metrics import precision_score, recall_score, f1_score\n",
        "\n",
        "# Convert tensors to NumPy arrays for sklearn metrics\n",
        "y_true = y_tensor.numpy()\n",
        "y_pred = predicted_classes.numpy()\n",
        "\n",
        "precision = precision_score(y_true, y_pred)\n",
        "recall = recall_score(y_true, y_pred)\n",
        "f1 = f1_score(y_true, y_pred)\n",
        "\n",
        "print(f'Precision: {precision:.4f}')\n",
        "print(f'Recall: {recall:.4f}')\n",
        "print(f'F1 Score: {f1:.4f}')\n"
      ],
      "metadata": {
        "colab": {
          "base_uri": "https://localhost:8080/"
        },
        "id": "C4Qi5xEFNqen",
        "outputId": "3dcc0cb0-b9f0-4743-f14c-eee7643552ea"
      },
      "execution_count": null,
      "outputs": [
        {
          "output_type": "stream",
          "name": "stdout",
          "text": [
            "Precision: 0.9091\n",
            "Recall: 1.0000\n",
            "F1 Score: 0.9524\n"
          ]
        }
      ]
    },
    {
      "cell_type": "code",
      "source": [
        "from sklearn.metrics import confusion_matrix\n",
        "import seaborn as sns\n",
        "\n",
        "# Generate confusion matrix\n",
        "conf_matrix = confusion_matrix(y_true, y_pred)\n",
        "\n",
        "# Plot confusion matrix\n",
        "sns.heatmap(conf_matrix, annot=True, fmt='d', cmap='Blues')\n",
        "plt.xlabel('Predicted Labels')\n",
        "plt.ylabel('True Labels')\n",
        "plt.title('Confusion Matrix')\n",
        "plt.show()\n"
      ],
      "metadata": {
        "colab": {
          "base_uri": "https://localhost:8080/",
          "height": 472
        },
        "id": "Usq1pusmNvQY",
        "outputId": "b988e8ec-f13b-4106-f310-a51915bbb701"
      },
      "execution_count": null,
      "outputs": [
        {
          "output_type": "display_data",
          "data": {
            "text/plain": [
              "<Figure size 640x480 with 2 Axes>"
            ],
            "image/png": "[encoded data removed]"
          },
          "metadata": {}
        }
      ]
    },
    {
      "cell_type": "code",
      "source": [
        "from sklearn.metrics import roc_curve, roc_auc_score\n",
        "\n",
        "# Compute ROC curve and AUC\n",
        "fpr, tpr, thresholds = roc_curve(y_true, predictions.numpy())\n",
        "roc_auc = roc_auc_score(y_true, predictions.numpy())\n",
        "\n",
        "# Plot ROC curve\n",
        "plt.figure()\n",
        "plt.plot(fpr, tpr, color='darkorange', lw=2, label=f'ROC curve (area = {roc_auc:.4f})')\n",
        "plt.plot([0, 1], [0, 1], color='navy', lw=2, linestyle='--')\n",
        "plt.xlim([0.0, 1.0])\n",
        "plt.ylim([0.0, 1.0])\n",
        "plt.xlabel('False Positive Rate')\n",
        "plt.ylabel('True Positive Rate')\n",
        "plt.title('Receiver Operating Characteristic')\n",
        "plt.legend(loc='lower right')\n",
        "plt.show()\n"
      ],
      "metadata": {
        "colab": {
          "base_uri": "https://localhost:8080/",
          "height": 472
        },
        "id": "e4Kz8dGhN1fe",
        "outputId": "05cdd884-9fd6-4b15-c088-64807297cab2"
      },
      "execution_count": null,
      "outputs": [
        {
          "output_type": "display_data",
          "data": {
            "text/plain": [
              "<Figure size 640x480 with 1 Axes>"
            ],
            "image/png": "[encoded data removed]"
          },
          "metadata": {}
        }
      ]
    },
    {
      "cell_type": "code",
      "source": [
        "from sklearn.model_selection import KFold\n",
        "from sklearn.metrics import accuracy_score\n",
        "\n",
        "def train_and_evaluate(model, criterion, optimizer, train_idx, val_idx):\n",
        "    # Split the data\n",
        "    X_train, X_val = X_tensor[train_idx], X_tensor[val_idx]\n",
        "    y_train, y_val = y_tensor[train_idx], y_tensor[val_idx]\n",
        "\n",
        "    # Training loop\n",
        "    epochs = 500\n",
        "    for epoch in range(epochs):\n",
        "        # Forward pass\n",
        "        outputs = model(X_train)\n",
        "        loss = criterion(outputs, y_train)\n",
        "\n",
        "        # Backward pass and optimization\n",
        "        optimizer.zero_grad()\n",
        "        loss.backward()\n",
        "        optimizer.step()\n",
        "\n",
        "    # Validation\n",
        "    model.eval()\n",
        "    with torch.no_grad():\n",
        "        val_outputs = model(X_val)\n",
        "        val_preds = (val_outputs > 0.5).float()\n",
        "        accuracy = accuracy_score(y_val, val_preds)\n",
        "    model.train()\n",
        "\n",
        "    return accuracy\n",
        "\n",
        "# Set up k-fold cross-validation\n",
        "k_folds = 10\n",
        "kf = KFold(n_splits=k_folds, shuffle=True, random_state=0)\n",
        "\n",
        "accuracies = []\n",
        "\n",
        "for fold, (train_idx, val_idx) in enumerate(kf.split(X_tensor)):\n",
        "    print(f'Fold {fold+1}/{k_folds}')\n",
        "\n",
        "    # Initialize a new model instance for each fold\n",
        "    model = SimpleNN()\n",
        "    criterion = nn.BCELoss()\n",
        "    optimizer = optim.SGD(model.parameters(), lr=0.01)\n",
        "\n",
        "    # Train and evaluate\n",
        "    accuracy = train_and_evaluate(model, criterion, optimizer, train_idx, val_idx)\n",
        "    accuracies.append(accuracy)\n",
        "\n",
        "    print(f'Accuracy for fold {fold+1}: {accuracy:.4f}')\n",
        "\n",
        "# Average accuracy across all folds\n",
        "mean_accuracy = np.mean(accuracies)\n",
        "print(f'Mean accuracy across {k_folds} folds: {mean_accuracy:.4f}')\n"
      ],
      "metadata": {
        "colab": {
          "base_uri": "https://localhost:8080/"
        },
        "id": "p3aBRWq0N4Ae",
        "outputId": "82d29070-205d-4b7b-b2b0-f84c348cadce"
      },
      "execution_count": null,
      "outputs": [
        {
          "output_type": "stream",
          "name": "stdout",
          "text": [
            "Fold 1/10\n",
            "Accuracy for fold 1: 1.0000\n",
            "Fold 2/10\n",
            "Accuracy for fold 2: 0.9000\n",
            "Fold 3/10\n",
            "Accuracy for fold 3: 0.9000\n",
            "Fold 4/10\n",
            "Accuracy for fold 4: 0.9000\n",
            "Fold 5/10\n",
            "Accuracy for fold 5: 0.8000\n",
            "Fold 6/10\n",
            "Accuracy for fold 6: 0.9000\n",
            "Fold 7/10\n",
            "Accuracy for fold 7: 0.9000\n",
            "Fold 8/10\n",
            "Accuracy for fold 8: 0.9000\n",
            "Fold 9/10\n",
            "Accuracy for fold 9: 0.1000\n",
            "Fold 10/10\n",
            "Accuracy for fold 10: 0.9000\n",
            "Mean accuracy across 10 folds: 0.8200\n"
          ]
        }
      ]
    },
    {
      "cell_type": "markdown",
      "source": [
        "# Topic 7: Unsupervised Learning - Clustering"
      ],
      "metadata": {
        "id": "AN1LqFuWPY4Z"
      }
    },
    {
      "cell_type": "code",
      "source": [
        "import torch\n",
        "import numpy as np\n",
        "import matplotlib.pyplot as plt\n",
        "from sklearn.datasets import make_blobs\n",
        "\n",
        "# Generate synthetic data\n",
        "np.random.seed(0)\n",
        "X, y = make_blobs(n_samples=300, centers=4, n_features=2, cluster_std=1.0, random_state=0)\n",
        "\n",
        "# Convert data to PyTorch tensors\n",
        "X_tensor = torch.tensor(X, dtype=torch.float32)\n"
      ],
      "metadata": {
        "id": "gcWFB-MVPbd2"
      },
      "execution_count": null,
      "outputs": []
    },
    {
      "cell_type": "code",
      "source": [
        "def initialize_centroids(X, k):\n",
        "    # Randomly choose k data points as initial centroids\n",
        "    indices = torch.randperm(X.size(0))[:k]\n",
        "    return X[indices]\n",
        "\n",
        "k = 4  # Number of clusters\n",
        "centroids = initialize_centroids(X_tensor, k)\n",
        "print(f'Initial centroids:\\n{centroids}')\n"
      ],
      "metadata": {
        "colab": {
          "base_uri": "https://localhost:8080/"
        },
        "id": "thlmEEx-Pdpf",
        "outputId": "531a0fde-de23-429e-b166-6c81ff2e4f5f"
      },
      "execution_count": null,
      "outputs": [
        {
          "output_type": "stream",
          "name": "stdout",
          "text": [
            "Initial centroids:\n",
            "tensor([[-0.8935,  8.4523],\n",
            "        [ 0.9868,  6.0897],\n",
            "        [-0.8284,  2.9217],\n",
            "        [-0.7496,  8.8834]])\n"
          ]
        }
      ]
    },
    {
      "cell_type": "code",
      "source": [
        "def assign_clusters(X, centroids):\n",
        "    # Calculate distances between each point and the centroids\n",
        "    distances = torch.cdist(X, centroids)\n",
        "    # Assign each point to the nearest centroid\n",
        "    return torch.argmin(distances, dim=1)\n"
      ],
      "metadata": {
        "id": "B_0QE-csPld5"
      },
      "execution_count": null,
      "outputs": []
    },
    {
      "cell_type": "code",
      "source": [
        "def update_centroids(X, labels, k):\n",
        "    new_centroids = torch.zeros((k, X.size(1)))\n",
        "    for i in range(k):\n",
        "        points_in_cluster = X[labels == i]\n",
        "        if points_in_cluster.size(0) > 0:\n",
        "            new_centroids[i] = points_in_cluster.mean(dim=0)\n",
        "    return new_centroids\n"
      ],
      "metadata": {
        "id": "QLkgkusJPq2h"
      },
      "execution_count": null,
      "outputs": []
    },
    {
      "cell_type": "code",
      "source": [
        "def kmeans(X, k, num_iterations=100):\n",
        "    centroids = initialize_centroids(X, k)\n",
        "    for i in range(num_iterations):\n",
        "        labels = assign_clusters(X, centroids)\n",
        "        new_centroids = update_centroids(X, labels, k)\n",
        "        if torch.equal(centroids, new_centroids):\n",
        "            print(f'Converged after {i+1} iterations')\n",
        "            break\n",
        "        centroids = new_centroids\n",
        "    return labels, centroids\n",
        "\n",
        "# Run K-Means Clustering\n",
        "labels, centroids = kmeans(X_tensor, k)\n"
      ],
      "metadata": {
        "colab": {
          "base_uri": "https://localhost:8080/"
        },
        "id": "qPJ8VKigPs-g",
        "outputId": "f172762f-d7d7-4ebe-9144-fc57bd95ebf2"
      },
      "execution_count": null,
      "outputs": [
        {
          "output_type": "stream",
          "name": "stdout",
          "text": [
            "Converged after 9 iterations\n"
          ]
        }
      ]
    },
    {
      "cell_type": "code",
      "source": [
        "# Plotting the clusters\n",
        "plt.scatter(X[:, 0], X[:, 1], c=labels, cmap='viridis', marker='o')\n",
        "plt.scatter(centroids[:, 0], centroids[:, 1], c='red', marker='x', s=100, label='Centroids')\n",
        "plt.title('K-Means Clustering')\n",
        "plt.legend()\n",
        "plt.show()\n"
      ],
      "metadata": {
        "colab": {
          "base_uri": "https://localhost:8080/",
          "height": 452
        },
        "id": "DnaFbVDdPvQ4",
        "outputId": "c8743919-645c-438d-e4d2-0fc40a967948"
      },
      "execution_count": null,
      "outputs": [
        {
          "output_type": "display_data",
          "data": {
            "text/plain": [
              "<Figure size 640x480 with 1 Axes>"
            ],
            "image/png": "[encoded data removed]"
          },
          "metadata": {}
        }
      ]
    },
    {
      "cell_type": "code",
      "source": [
        "from sklearn.metrics import silhouette_score\n",
        "\n",
        "# Calculate Silhouette Score\n",
        "sil_score = silhouette_score(X, labels)\n",
        "print(f'Silhouette Score: {sil_score:.4f}')"
      ],
      "metadata": {
        "colab": {
          "base_uri": "https://localhost:8080/"
        },
        "id": "n9QSa5lrQBsu",
        "outputId": "a268c8df-b84f-407b-8c69-06525316b076"
      },
      "execution_count": null,
      "outputs": [
        {
          "output_type": "stream",
          "name": "stdout",
          "text": [
            "Silhouette Score: 0.5009\n"
          ]
        }
      ]
    },
    {
      "cell_type": "markdown",
      "source": [
        "# Topic 8: Advanced Topics in Machine Learning (Optional)"
      ],
      "metadata": {
        "id": "B-GQzBlhRG4w"
      }
    },
    {
      "cell_type": "markdown",
      "source": [
        "## Step 2: Hands-On with Convolutional Neural Networks (CNNs)"
      ],
      "metadata": {
        "id": "HhLs7kv6RKuz"
      }
    },
    {
      "cell_type": "code",
      "source": [
        "import torch\n",
        "import torch.nn as nn\n",
        "import torch.optim as optim\n",
        "import torchvision\n",
        "import torchvision.transforms as transforms\n",
        "\n",
        "# Load the MNIST dataset\n",
        "transform = transforms.Compose([transforms.ToTensor(), transforms.Normalize((0.5,), (0.5,))])\n",
        "\n",
        "trainset = torchvision.datasets.MNIST(root='./data', train=True, download=True, transform=transform)\n",
        "trainloader = torch.utils.data.DataLoader(trainset, batch_size=64, shuffle=True)\n",
        "\n",
        "testset = torchvision.datasets.MNIST(root='./data', train=False, download=True, transform=transform)\n",
        "testloader = torch.utils.data.DataLoader(testset, batch_size=64, shuffle=False)\n"
      ],
      "metadata": {
        "colab": {
          "base_uri": "https://localhost:8080/"
        },
        "id": "q46jgw6NQrVw",
        "outputId": "c7f6bf65-c873-4387-8fc3-9d224bbb8c0c"
      },
      "execution_count": null,
      "outputs": [
        {
          "output_type": "stream",
          "name": "stdout",
          "text": [
            "Downloading http://yann.lecun.com/exdb/mnist/train-images-idx3-ubyte.gz\n",
            "Failed to download (trying next):\n",
            "HTTP Error 403: Forbidden\n",
            "\n",
            "Downloading https://ossci-datasets.s3.amazonaws.com/mnist/train-images-idx3-ubyte.gz\n",
            "Downloading https://ossci-datasets.s3.amazonaws.com/mnist/train-images-idx3-ubyte.gz to ./data/MNIST/raw/train-images-idx3-ubyte.gz\n"
          ]
        },
        {
          "output_type": "stream",
          "name": "stderr",
          "text": [
            "100%|██████████| 9912422/9912422 [00:00<00:00, 20568055.10it/s]\n"
          ]
        },
        {
          "output_type": "stream",
          "name": "stdout",
          "text": [
            "Extracting ./data/MNIST/raw/train-images-idx3-ubyte.gz to ./data/MNIST/raw\n",
            "\n",
            "Downloading http://yann.lecun.com/exdb/mnist/train-labels-idx1-ubyte.gz\n",
            "Failed to download (trying next):\n",
            "HTTP Error 403: Forbidden\n",
            "\n",
            "Downloading https://ossci-datasets.s3.amazonaws.com/mnist/train-labels-idx1-ubyte.gz\n",
            "Downloading https://ossci-datasets.s3.amazonaws.com/mnist/train-labels-idx1-ubyte.gz to ./data/MNIST/raw/train-labels-idx1-ubyte.gz\n"
          ]
        },
        {
          "output_type": "stream",
          "name": "stderr",
          "text": [
            "100%|██████████| 28881/28881 [00:00<00:00, 572426.23it/s]\n"
          ]
        },
        {
          "output_type": "stream",
          "name": "stdout",
          "text": [
            "Extracting ./data/MNIST/raw/train-labels-idx1-ubyte.gz to ./data/MNIST/raw\n",
            "\n",
            "Downloading http://yann.lecun.com/exdb/mnist/t10k-images-idx3-ubyte.gz\n",
            "Failed to download (trying next):\n",
            "HTTP Error 403: Forbidden\n",
            "\n",
            "Downloading https://ossci-datasets.s3.amazonaws.com/mnist/t10k-images-idx3-ubyte.gz\n",
            "Downloading https://ossci-datasets.s3.amazonaws.com/mnist/t10k-images-idx3-ubyte.gz to ./data/MNIST/raw/t10k-images-idx3-ubyte.gz\n"
          ]
        },
        {
          "output_type": "stream",
          "name": "stderr",
          "text": [
            "100%|██████████| 1648877/1648877 [00:00<00:00, 5183898.93it/s]\n"
          ]
        },
        {
          "output_type": "stream",
          "name": "stdout",
          "text": [
            "Extracting ./data/MNIST/raw/t10k-images-idx3-ubyte.gz to ./data/MNIST/raw\n",
            "\n",
            "Downloading http://yann.lecun.com/exdb/mnist/t10k-labels-idx1-ubyte.gz\n",
            "Failed to download (trying next):\n",
            "HTTP Error 403: Forbidden\n",
            "\n",
            "Downloading https://ossci-datasets.s3.amazonaws.com/mnist/t10k-labels-idx1-ubyte.gz\n",
            "Downloading https://ossci-datasets.s3.amazonaws.com/mnist/t10k-labels-idx1-ubyte.gz to ./data/MNIST/raw/t10k-labels-idx1-ubyte.gz\n"
          ]
        },
        {
          "output_type": "stream",
          "name": "stderr",
          "text": [
            "100%|██████████| 4542/4542 [00:00<00:00, 6796478.33it/s]"
          ]
        },
        {
          "output_type": "stream",
          "name": "stdout",
          "text": [
            "Extracting ./data/MNIST/raw/t10k-labels-idx1-ubyte.gz to ./data/MNIST/raw\n",
            "\n"
          ]
        },
        {
          "output_type": "stream",
          "name": "stderr",
          "text": [
            "\n"
          ]
        }
      ]
    },
    {
      "cell_type": "code",
      "source": [
        "class SimpleCNN(nn.Module):\n",
        "    def __init__(self):\n",
        "        super(SimpleCNN, self).__init__()\n",
        "        self.conv1 = nn.Conv2d(1, 32, kernel_size=3, padding=1)\n",
        "        self.conv2 = nn.Conv2d(32, 64, kernel_size=3, padding=1)\n",
        "        self.pool = nn.MaxPool2d(kernel_size=2, stride=2)\n",
        "        self.fc1 = nn.Linear(64 * 7 * 7, 128)\n",
        "        self.fc2 = nn.Linear(128, 10)\n",
        "        self.relu = nn.ReLU()\n",
        "\n",
        "    def forward(self, x):\n",
        "        x = self.pool(self.relu(self.conv1(x)))\n",
        "        x = self.pool(self.relu(self.conv2(x)))\n",
        "        x = x.view(-1, 64 * 7 * 7)  # Flatten the tensor\n",
        "        x = self.relu(self.fc1(x))\n",
        "        x = self.fc2(x)\n",
        "        return x\n",
        "\n",
        "model = SimpleCNN()\n"
      ],
      "metadata": {
        "id": "zZCpHkoLRQN2"
      },
      "execution_count": null,
      "outputs": []
    },
    {
      "cell_type": "code",
      "source": [
        "criterion = nn.CrossEntropyLoss()\n",
        "optimizer = optim.Adam(model.parameters(), lr=0.001)\n",
        "\n",
        "# Training loop\n",
        "epochs = 5\n",
        "for epoch in range(epochs):\n",
        "    running_loss = 0.0\n",
        "    for images, labels in trainloader:\n",
        "        optimizer.zero_grad()\n",
        "        outputs = model(images)\n",
        "        loss = criterion(outputs, labels)\n",
        "        loss.backward()\n",
        "        optimizer.step()\n",
        "        running_loss += loss.item()\n",
        "    print(f'Epoch {epoch+1}/{epochs}, Loss: {running_loss/len(trainloader):.4f}')\n"
      ],
      "metadata": {
        "colab": {
          "base_uri": "https://localhost:8080/"
        },
        "id": "5D9IOXDwRl51",
        "outputId": "fc6adf8c-c3cb-4718-f564-637b3f0fb2fb"
      },
      "execution_count": null,
      "outputs": [
        {
          "output_type": "stream",
          "name": "stdout",
          "text": [
            "Epoch 1/5, Loss: 0.1550\n",
            "Epoch 2/5, Loss: 0.0451\n",
            "Epoch 3/5, Loss: 0.0311\n",
            "Epoch 4/5, Loss: 0.0224\n",
            "Epoch 5/5, Loss: 0.0168\n"
          ]
        }
      ]
    },
    {
      "cell_type": "code",
      "source": [
        "correct = 0\n",
        "total = 0\n",
        "\n",
        "with torch.no_grad():\n",
        "    for images, labels in testloader:\n",
        "        outputs = model(images)\n",
        "        _, predicted = torch.max(outputs.data, 1)\n",
        "        total += labels.size(0)\n",
        "        correct += (predicted == labels).sum().item()\n",
        "\n",
        "accuracy = 100 * correct / total\n",
        "print(f'Accuracy on the test set: {accuracy:.2f}%')\n"
      ],
      "metadata": {
        "colab": {
          "base_uri": "https://localhost:8080/"
        },
        "id": "ixJ4FLitVBJp",
        "outputId": "39f2354d-4c74-4be0-92a9-a785131b2c5e"
      },
      "execution_count": null,
      "outputs": [
        {
          "output_type": "stream",
          "name": "stdout",
          "text": [
            "Accuracy on the test set: 98.93%\n"
          ]
        }
      ]
    },
    {
      "cell_type": "markdown",
      "source": [
        "# Topic 9: Model Evaluation and Validation"
      ],
      "metadata": {
        "id": "u1-3EWBlVJ5I"
      }
    },
    {
      "cell_type": "code",
      "source": [
        "from sklearn.datasets import load_iris\n",
        "from sklearn.model_selection import train_test_split\n",
        "from sklearn.preprocessing import StandardScaler\n",
        "\n",
        "# Load data\n",
        "data = load_iris()\n",
        "X = data.data\n",
        "y = data.target\n",
        "\n",
        "# Split data into train and test sets\n",
        "X_train, X_test, y_train, y_test = train_test_split(X, y, test_size=0.2, random_state=42)\n",
        "\n",
        "# Standardize features\n",
        "scaler = StandardScaler()\n",
        "X_train = scaler.fit_transform(X_train)\n",
        "X_test = scaler.transform(X_test)\n"
      ],
      "metadata": {
        "id": "W0MYGXhHVKeL"
      },
      "execution_count": null,
      "outputs": []
    },
    {
      "cell_type": "code",
      "source": [
        "from sklearn.neighbors import KNeighborsClassifier\n",
        "\n",
        "model = KNeighborsClassifier(n_neighbors=3)\n",
        "model.fit(X_train, y_train)\n"
      ],
      "metadata": {
        "colab": {
          "base_uri": "https://localhost:8080/",
          "height": 74
        },
        "id": "m1Zrf3ElVhr0",
        "outputId": "0e384033-626b-4a2b-eea5-f26f92e3bc8f"
      },
      "execution_count": null,
      "outputs": [
        {
          "output_type": "execute_result",
          "data": {
            "text/plain": [
              "KNeighborsClassifier(n_neighbors=3)"
            ],
            "text/html": [
              "<style>#sk-container-id-2 {color: black;}#sk-container-id-2 pre{padding: 0;}#sk-container-id-2 div.sk-toggleable {background-color: white;}#sk-container-id-2 label.sk-toggleable__label {cursor: pointer;display: block;width: 100%;margin-bottom: 0;padding: 0.3em;box-sizing: border-box;text-align: center;}#sk-container-id-2 label.sk-toggleable__label-arrow:before {content: \"▸\";float: left;margin-right: 0.25em;color: #696969;}#sk-container-id-2 label.sk-toggleable__label-arrow:hover:before {color: black;}#sk-container-id-2 div.sk-estimator:hover label.sk-toggleable__label-arrow:before {color: black;}#sk-container-id-2 div.sk-toggleable__content {max-height: 0;max-width: 0;overflow: hidden;text-align: left;background-color: #f0f8ff;}#sk-container-id-2 div.sk-toggleable__content pre {margin: 0.2em;color: black;border-radius: 0.25em;background-color: #f0f8ff;}#sk-container-id-2 input.sk-toggleable__control:checked~div.sk-toggleable__content {max-height: 200px;max-width: 100%;overflow: auto;}#sk-container-id-2 input.sk-toggleable__control:checked~label.sk-toggleable__label-arrow:before {content: \"▾\";}#sk-container-id-2 div.sk-estimator input.sk-toggleable__control:checked~label.sk-toggleable__label {background-color: #d4ebff;}#sk-container-id-2 div.sk-label input.sk-toggleable__control:checked~label.sk-toggleable__label {background-color: #d4ebff;}#sk-container-id-2 input.sk-hidden--visually {border: 0;clip: rect(1px 1px 1px 1px);clip: rect(1px, 1px, 1px, 1px);height: 1px;margin: -1px;overflow: hidden;padding: 0;position: absolute;width: 1px;}#sk-container-id-2 div.sk-estimator {font-family: monospace;background-color: #f0f8ff;border: 1px dotted black;border-radius: 0.25em;box-sizing: border-box;margin-bottom: 0.5em;}#sk-container-id-2 div.sk-estimator:hover {background-color: #d4ebff;}#sk-container-id-2 div.sk-parallel-item::after {content: \"\";width: 100%;border-bottom: 1px solid gray;flex-grow: 1;}#sk-container-id-2 div.sk-label:hover label.sk-toggleable__label {background-color: #d4ebff;}#sk-container-id-2 div.sk-serial::before {content: \"\";position: absolute;border-left: 1px solid gray;box-sizing: border-box;top: 0;bottom: 0;left: 50%;z-index: 0;}#sk-container-id-2 div.sk-serial {display: flex;flex-direction: column;align-items: center;background-color: white;padding-right: 0.2em;padding-left: 0.2em;position: relative;}#sk-container-id-2 div.sk-item {position: relative;z-index: 1;}#sk-container-id-2 div.sk-parallel {display: flex;align-items: stretch;justify-content: center;background-color: white;position: relative;}#sk-container-id-2 div.sk-item::before, #sk-container-id-2 div.sk-parallel-item::before {content: \"\";position: absolute;border-left: 1px solid gray;box-sizing: border-box;top: 0;bottom: 0;left: 50%;z-index: -1;}#sk-container-id-2 div.sk-parallel-item {display: flex;flex-direction: column;z-index: 1;position: relative;background-color: white;}#sk-container-id-2 div.sk-parallel-item:first-child::after {align-self: flex-end;width: 50%;}#sk-container-id-2 div.sk-parallel-item:last-child::after {align-self: flex-start;width: 50%;}#sk-container-id-2 div.sk-parallel-item:only-child::after {width: 0;}#sk-container-id-2 div.sk-dashed-wrapped {border: 1px dashed gray;margin: 0 0.4em 0.5em 0.4em;box-sizing: border-box;padding-bottom: 0.4em;background-color: white;}#sk-container-id-2 div.sk-label label {font-family: monospace;font-weight: bold;display: inline-block;line-height: 1.2em;}#sk-container-id-2 div.sk-label-container {text-align: center;}#sk-container-id-2 div.sk-container {/* jupyter's `normalize.less` sets `[hidden] { display: none; }` but bootstrap.min.css set `[hidden] { display: none !important; }` so we also need the `!important` here to be able to override the default hidden behavior on the sphinx rendered scikit-learn.org. See: https://github.com/scikit-learn/scikit-learn/issues/21755 */display: inline-block !important;position: relative;}#sk-container-id-2 div.sk-text-repr-fallback {display: none;}</style><div id=\"sk-container-id-2\" class=\"sk-top-container\"><div class=\"sk-text-repr-fallback\"><pre>KNeighborsClassifier(n_neighbors=3)</pre><b>In a Jupyter environment, please rerun this cell to show the HTML representation or trust the notebook. <br />On GitHub, the HTML representation is unable to render, please try loading this page with nbviewer.org.</b></div><div class=\"sk-container\" hidden><div class=\"sk-item\"><div class=\"sk-estimator sk-toggleable\"><input class=\"sk-toggleable__control sk-hidden--visually\" id=\"sk-estimator-id-2\" type=\"checkbox\" checked><label for=\"sk-estimator-id-2\" class=\"sk-toggleable__label sk-toggleable__label-arrow\">KNeighborsClassifier</label><div class=\"sk-toggleable__content\"><pre>KNeighborsClassifier(n_neighbors=3)</pre></div></div></div></div></div>"
            ]
          },
          "metadata": {},
          "execution_count": 12
        }
      ]
    },
    {
      "cell_type": "code",
      "source": [
        "from sklearn.metrics import accuracy_score, confusion_matrix, classification_report, roc_auc_score\n",
        "import numpy as np\n",
        "\n",
        "# Predict on test set\n",
        "y_pred = model.predict(X_test)\n",
        "\n",
        "# Accuracy\n",
        "accuracy = accuracy_score(y_test, y_pred)\n",
        "print(f'Accuracy: {accuracy:.4f}')\n",
        "\n",
        "# Confusion Matrix\n",
        "cm = confusion_matrix(y_test, y_pred)\n",
        "print('Confusion Matrix:')\n",
        "print(cm)\n",
        "\n",
        "# Classification Report\n",
        "report = classification_report(y_test, y_pred)\n",
        "print('Classification Report:')\n",
        "print(report)\n",
        "\n",
        "# ROC Curve and AUC (for binary classification)\n",
        "# Note: For multiclass, you would use One-vs-Rest strategy or a similar approach\n",
        "# Since Iris is multiclass, we won’t calculate ROC AUC here, but for binary:\n",
        "# y_score = model.predict_proba(X_test)[:, 1]\n",
        "# roc_auc = roc_auc_score(y_test, y_score)\n",
        "# print(f'ROC AUC: {roc_auc:.4f}')\n"
      ],
      "metadata": {
        "colab": {
          "base_uri": "https://localhost:8080/"
        },
        "id": "GaXyDRW-Vquc",
        "outputId": "2ee45d1e-51db-4bc5-cd08-d35b46d8f854"
      },
      "execution_count": null,
      "outputs": [
        {
          "output_type": "stream",
          "name": "stdout",
          "text": [
            "Accuracy: 1.0000\n",
            "Confusion Matrix:\n",
            "[[10  0  0]\n",
            " [ 0  9  0]\n",
            " [ 0  0 11]]\n",
            "Classification Report:\n",
            "              precision    recall  f1-score   support\n",
            "\n",
            "           0       1.00      1.00      1.00        10\n",
            "           1       1.00      1.00      1.00         9\n",
            "           2       1.00      1.00      1.00        11\n",
            "\n",
            "    accuracy                           1.00        30\n",
            "   macro avg       1.00      1.00      1.00        30\n",
            "weighted avg       1.00      1.00      1.00        30\n",
            "\n"
          ]
        }
      ]
    },
    {
      "cell_type": "code",
      "source": [
        "from sklearn.model_selection import cross_val_score\n",
        "\n",
        "# Example with K-Nearest Neighbors (KNN) classifier\n",
        "#from sklearn.neighbors import KNeighborsClassifier\n",
        "\n",
        "##model = KNeighborsClassifier()\n",
        "scores = cross_val_score(model, X, y, cv=5)\n",
        "print(f'Mean accuracy: {scores.mean():.4f}')\n"
      ],
      "metadata": {
        "colab": {
          "base_uri": "https://localhost:8080/"
        },
        "id": "la3qrIhpW163",
        "outputId": "5222c200-cb18-4e2c-d687-4080b79579ad"
      },
      "execution_count": null,
      "outputs": [
        {
          "output_type": "stream",
          "name": "stdout",
          "text": [
            "Mean accuracy: 0.9667\n"
          ]
        }
      ]
    },
    {
      "cell_type": "markdown",
      "source": [
        "## Techniques for Hyperparameter Tuning"
      ],
      "metadata": {
        "id": "ZDVXOaKGYSg6"
      }
    },
    {
      "cell_type": "markdown",
      "source": [
        "### 1. Grid Search"
      ],
      "metadata": {
        "id": "dKAqZrzqYoh-"
      }
    },
    {
      "cell_type": "code",
      "source": [
        "from sklearn.model_selection import GridSearchCV\n",
        "from sklearn.neighbors import KNeighborsClassifier\n",
        "\n",
        "# Define the model\n",
        "model = KNeighborsClassifier()\n",
        "\n",
        "# Define the grid of hyperparameters to search\n",
        "param_grid = {\n",
        "    'n_neighbors': [3, 5, 7],\n",
        "    'weights': ['uniform', 'distance'],\n",
        "    'metric': ['euclidean', 'manhattan']\n",
        "}\n",
        "\n",
        "# Set up GridSearchCV\n",
        "grid_search = GridSearchCV(model, param_grid, cv=5, scoring='accuracy')\n",
        "grid_search.fit(X_train, y_train)\n",
        "\n",
        "# Get the best parameters and best score\n",
        "print(f'Best Hyperparameters: {grid_search.best_params_}')\n",
        "print(f'Best Accuracy: {grid_search.best_score_:.4f}')\n",
        "\n"
      ],
      "metadata": {
        "colab": {
          "base_uri": "https://localhost:8080/"
        },
        "id": "-EpIlbwUXdgx",
        "outputId": "153f0320-7dfc-4cc4-80d8-f5b4c5181372"
      },
      "execution_count": null,
      "outputs": [
        {
          "output_type": "stream",
          "name": "stdout",
          "text": [
            "Best Hyperparameters: {'metric': 'manhattan', 'n_neighbors': 7, 'weights': 'distance'}\n",
            "Best Accuracy: 0.9583\n"
          ]
        }
      ]
    },
    {
      "cell_type": "markdown",
      "source": [
        "### 2. Random Search"
      ],
      "metadata": {
        "id": "GSGDCjhMYqhw"
      }
    },
    {
      "cell_type": "code",
      "source": [
        "from sklearn.model_selection import RandomizedSearchCV\n",
        "from sklearn.ensemble import RandomForestClassifier\n",
        "from scipy.stats import randint\n",
        "\n",
        "# Define the model\n",
        "model = RandomForestClassifier()\n",
        "\n",
        "# Define the hyperparameter distribution\n",
        "param_dist = {\n",
        "    'n_estimators': randint(10, 200),\n",
        "    'max_depth': randint(1, 10),\n",
        "    'min_samples_split': randint(2, 11),\n",
        "    'min_samples_leaf': randint(1, 11)\n",
        "}\n",
        "\n",
        "# Set up RandomizedSearchCV\n",
        "random_search = RandomizedSearchCV(model, param_distributions=param_dist, n_iter=100, cv=5, scoring='accuracy', random_state=42)\n",
        "random_search.fit(X_train, y_train)\n",
        "\n",
        "# Get the best parameters and best score\n",
        "print(f'Best Hyperparameters: {random_search.best_params_}')\n",
        "print(f'Best Accuracy: {random_search.best_score_:.4f}')\n"
      ],
      "metadata": {
        "colab": {
          "base_uri": "https://localhost:8080/"
        },
        "id": "6Lz2UXPwXo-g",
        "outputId": "1fd48d44-f35e-4116-c88b-207e7616c758"
      },
      "execution_count": null,
      "outputs": [
        {
          "output_type": "stream",
          "name": "stdout",
          "text": [
            "Best Hyperparameters: {'max_depth': 7, 'min_samples_leaf': 4, 'min_samples_split': 9, 'n_estimators': 198}\n",
            "Best Accuracy: 0.9583\n"
          ]
        }
      ]
    },
    {
      "cell_type": "markdown",
      "source": [
        "## Implementing Hyperparameter Tuning with an Example"
      ],
      "metadata": {
        "id": "COCLbngTZKVp"
      }
    },
    {
      "cell_type": "code",
      "source": [
        "from sklearn.datasets import load_iris\n",
        "from sklearn.model_selection import train_test_split\n",
        "from sklearn.preprocessing import StandardScaler\n",
        "\n",
        "# Load data\n",
        "data = load_iris()\n",
        "X = data.data\n",
        "y = data.target\n",
        "\n",
        "# Split data into train and test sets\n",
        "X_train, X_test, y_train, y_test = train_test_split(X, y, test_size=0.2, random_state=42)\n",
        "\n",
        "# Standardize features\n",
        "scaler = StandardScaler()\n",
        "X_train = scaler.fit_transform(X_train)\n",
        "X_test = scaler.transform(X_test)\n"
      ],
      "metadata": {
        "id": "9cGfo7Q4ZJmV"
      },
      "execution_count": null,
      "outputs": []
    },
    {
      "cell_type": "code",
      "source": [
        "from sklearn.svm import SVC\n",
        "from sklearn.model_selection import GridSearchCV\n",
        "\n",
        "# Define the model\n",
        "model = SVC()\n",
        "\n",
        "# Define the grid of hyperparameters to search\n",
        "param_grid = {\n",
        "    'C': [0.1, 1, 10, 100],\n",
        "    'kernel': ['linear', 'rbf'],\n",
        "    'gamma': ['scale', 'auto']\n",
        "}\n",
        "\n",
        "# Set up GridSearchCV\n",
        "grid_search = GridSearchCV(model, param_grid, cv=5, scoring='accuracy')\n",
        "grid_search.fit(X_train, y_train)\n",
        "\n",
        "# Get the best parameters and best score\n",
        "print(f'Best Hyperparameters: {grid_search.best_params_}')\n",
        "print(f'Best Accuracy: {grid_search.best_score_:.4f}')\n"
      ],
      "metadata": {
        "colab": {
          "base_uri": "https://localhost:8080/"
        },
        "id": "00ZPc8iGZT8B",
        "outputId": "153679fd-dd2b-4679-eae2-40ac454b0fb7"
      },
      "execution_count": null,
      "outputs": [
        {
          "output_type": "stream",
          "name": "stdout",
          "text": [
            "Best Hyperparameters: {'C': 10, 'gamma': 'scale', 'kernel': 'linear'}\n",
            "Best Accuracy: 0.9583\n"
          ]
        }
      ]
    },
    {
      "cell_type": "code",
      "source": [
        "# Evaluate on the test set\n",
        "best_model = grid_search.best_estimator_\n",
        "test_accuracy = best_model.score(X_test, y_test)\n",
        "print(f'Test Accuracy: {test_accuracy:.4f}')\n"
      ],
      "metadata": {
        "colab": {
          "base_uri": "https://localhost:8080/"
        },
        "id": "B8FCOi62ZgFT",
        "outputId": "27508d37-a754-4874-f2a9-8b777ef00a4e"
      },
      "execution_count": null,
      "outputs": [
        {
          "output_type": "stream",
          "name": "stdout",
          "text": [
            "Test Accuracy: 0.9667\n"
          ]
        }
      ]
    },
    {
      "cell_type": "markdown",
      "source": [
        "## Implementing L1/L2 Regularization in Linear Models"
      ],
      "metadata": {
        "id": "KxRe-dqgZ6Ma"
      }
    },
    {
      "cell_type": "code",
      "source": [
        "from sklearn.datasets import fetch_california_housing\n",
        "from sklearn.model_selection import train_test_split\n",
        "from sklearn.preprocessing import StandardScaler\n",
        "\n",
        "# Load the California housing dataset\n",
        "housing = fetch_california_housing()\n",
        "X = housing.data\n",
        "y = housing.target\n",
        "\n",
        "# Split the dataset into training and testing sets\n",
        "X_train, X_test, y_train, y_test = train_test_split(X, y, test_size=0.2, random_state=42)\n",
        "\n",
        "# Standardize the features\n",
        "scaler = StandardScaler()\n",
        "X_train = scaler.fit_transform(X_train)\n",
        "X_test = scaler.transform(X_test)\n"
      ],
      "metadata": {
        "id": "2RMCksP9Z827"
      },
      "execution_count": null,
      "outputs": []
    },
    {
      "cell_type": "code",
      "source": [
        "from sklearn.linear_model import Ridge\n",
        "from sklearn.metrics import mean_squared_error\n",
        "\n",
        "# Train a Ridge Regression model\n",
        "ridge_model = Ridge(alpha=1.0)  # alpha is the regularization strength\n",
        "ridge_model.fit(X_train, y_train)\n",
        "\n",
        "# Predict on the test set\n",
        "y_pred_ridge = ridge_model.predict(X_test)\n",
        "\n",
        "# Calculate and print the Mean Squared Error (MSE)\n",
        "mse_ridge = mean_squared_error(y_test, y_pred_ridge)\n",
        "print(f'Ridge Regression MSE: {mse_ridge:.4f}')\n"
      ],
      "metadata": {
        "colab": {
          "base_uri": "https://localhost:8080/"
        },
        "id": "7s6kiKmKafhR",
        "outputId": "a6d7fbed-e85c-42ba-f738-e773380a04fe"
      },
      "execution_count": null,
      "outputs": [
        {
          "output_type": "stream",
          "name": "stdout",
          "text": [
            "Ridge Regression MSE: 0.5559\n"
          ]
        }
      ]
    },
    {
      "cell_type": "code",
      "source": [
        "from sklearn.linear_model import Lasso\n",
        "\n",
        "# Train a Lasso Regression model\n",
        "lasso_model = Lasso(alpha=0.1)  # alpha is the regularization strength\n",
        "lasso_model.fit(X_train, y_train)\n",
        "\n",
        "# Predict on the test set\n",
        "y_pred_lasso = lasso_model.predict(X_test)\n",
        "\n",
        "# Calculate and print the Mean Squared Error (MSE)\n",
        "mse_lasso = mean_squared_error(y_test, y_pred_lasso)\n",
        "print(f'Lasso Regression MSE: {mse_lasso:.4f}')\n"
      ],
      "metadata": {
        "colab": {
          "base_uri": "https://localhost:8080/"
        },
        "id": "bryOj91daoq2",
        "outputId": "73b50b09-73b6-45e3-a5be-db038377f229"
      },
      "execution_count": null,
      "outputs": [
        {
          "output_type": "stream",
          "name": "stdout",
          "text": [
            "Lasso Regression MSE: 0.6796\n"
          ]
        }
      ]
    },
    {
      "cell_type": "code",
      "source": [
        "# Compare the coefficients of the two models\n",
        "print(\"Ridge Regression Coefficients:\")\n",
        "print(ridge_model.coef_)\n",
        "\n",
        "print(\"Lasso Regression Coefficients:\")\n",
        "print(lasso_model.coef_)\n"
      ],
      "metadata": {
        "colab": {
          "base_uri": "https://localhost:8080/"
        },
        "id": "0GdAwgMRarlr",
        "outputId": "2eebd13e-2749-44f0-ea88-f5c5c8d64e10"
      },
      "execution_count": null,
      "outputs": [
        {
          "output_type": "stream",
          "name": "stdout",
          "text": [
            "Ridge Regression Coefficients:\n",
            "[ 0.85432679  0.12262397 -0.29421036  0.33900794 -0.00228221 -0.04083302\n",
            " -0.89616759 -0.86907074]\n",
            "Lasso Regression Coefficients:\n",
            "[ 0.71059779  0.1064527  -0.          0.         -0.         -0.\n",
            " -0.01146856 -0.        ]\n"
          ]
        }
      ]
    },
    {
      "cell_type": "code",
      "source": [
        "# Experiment with different alpha values\n",
        "for alpha in [0.01, 0.1, 1.0, 10.0]:\n",
        "    ridge_model = Ridge(alpha=alpha)\n",
        "    ridge_model.fit(X_train, y_train)\n",
        "    y_pred_ridge = ridge_model.predict(X_test)\n",
        "    mse_ridge = mean_squared_error(y_test, y_pred_ridge)\n",
        "    print(f'Ridge Regression (alpha={alpha}) MSE: {mse_ridge:.4f}')\n",
        "\n",
        "    lasso_model = Lasso(alpha=alpha)\n",
        "    lasso_model.fit(X_train, y_train)\n",
        "    y_pred_lasso = lasso_model.predict(X_test)\n",
        "    mse_lasso = mean_squared_error(y_test, y_pred_lasso)\n",
        "    print(f'Lasso Regression (alpha={alpha}) MSE: {mse_lasso:.4f}')\n"
      ],
      "metadata": {
        "colab": {
          "base_uri": "https://localhost:8080/"
        },
        "id": "LSXXOtM3auoY",
        "outputId": "fea3b681-e40f-4fb3-b499-bb33007b70ca"
      },
      "execution_count": null,
      "outputs": [
        {
          "output_type": "stream",
          "name": "stdout",
          "text": [
            "Ridge Regression (alpha=0.01) MSE: 0.5559\n",
            "Lasso Regression (alpha=0.01) MSE: 0.5483\n",
            "Ridge Regression (alpha=0.1) MSE: 0.5559\n",
            "Lasso Regression (alpha=0.1) MSE: 0.6796\n",
            "Ridge Regression (alpha=1.0) MSE: 0.5559\n",
            "Lasso Regression (alpha=1.0) MSE: 1.3107\n",
            "Ridge Regression (alpha=10.0) MSE: 0.5555\n",
            "Lasso Regression (alpha=10.0) MSE: 1.3107\n"
          ]
        }
      ]
    },
    {
      "cell_type": "markdown",
      "source": [
        "## Implement ElasticNet Regression"
      ],
      "metadata": {
        "id": "LQ2jjSTzbkdi"
      }
    },
    {
      "cell_type": "code",
      "source": [
        "from sklearn.datasets import fetch_california_housing\n",
        "from sklearn.model_selection import train_test_split\n",
        "from sklearn.preprocessing import StandardScaler\n",
        "\n",
        "# Load the California housing dataset\n",
        "housing = fetch_california_housing()\n",
        "X = housing.data\n",
        "y = housing.target\n",
        "\n",
        "# Split the dataset into training and testing sets\n",
        "X_train, X_test, y_train, y_test = train_test_split(X, y, test_size=0.2, random_state=42)\n",
        "\n",
        "# Standardize the features\n",
        "scaler = StandardScaler()\n",
        "X_train = scaler.fit_transform(X_train)\n",
        "X_test = scaler.transform(X_test)\n"
      ],
      "metadata": {
        "id": "mbLgp5uDbtr2"
      },
      "execution_count": null,
      "outputs": []
    },
    {
      "cell_type": "code",
      "source": [
        "from sklearn.linear_model import ElasticNetCV\n",
        "from sklearn.metrics import mean_squared_error\n",
        "\n",
        "# Define the ElasticNetCV model\n",
        "elastic_cv = ElasticNetCV(cv=5, random_state=42, alphas=[0.1, 1.0, 10.0], l1_ratio=[0.2, 0.5, 0.8])\n",
        "\n",
        "# Fit the model\n",
        "elastic_cv.fit(X_train, y_train)\n",
        "\n",
        "# Predict on the test set\n",
        "y_pred_elastic_cv = elastic_cv.predict(X_test)\n",
        "\n",
        "# Calculate and print the Mean Squared Error (MSE)\n",
        "mse_elastic_cv = mean_squared_error(y_test, y_pred_elastic_cv)\n",
        "print(f'ElasticNetCV MSE: {mse_elastic_cv:.4f}')\n",
        "\n",
        "# Display the best alpha and l1_ratio\n",
        "print(f'Best alpha: {elastic_cv.alpha_}')\n",
        "print(f'Best l1_ratio: {elastic_cv.l1_ratio_}')\n"
      ],
      "metadata": {
        "colab": {
          "base_uri": "https://localhost:8080/"
        },
        "id": "4v7yXU6Ebvte",
        "outputId": "0930fa0e-08c9-428c-eb8c-db4914b6f0a3"
      },
      "execution_count": null,
      "outputs": [
        {
          "output_type": "stream",
          "name": "stdout",
          "text": [
            "ElasticNetCV MSE: 0.6013\n",
            "Best alpha: 0.1\n",
            "Best l1_ratio: 0.2\n"
          ]
        }
      ]
    },
    {
      "cell_type": "code",
      "source": [
        "print(\"ElasticNetCV Coefficients:\")\n",
        "print(elastic_cv.coef_)\n"
      ],
      "metadata": {
        "colab": {
          "base_uri": "https://localhost:8080/"
        },
        "id": "806E5gtLbxk3",
        "outputId": "4eb36a9f-2796-4822-8b35-edeee2ee32a7"
      },
      "execution_count": null,
      "outputs": [
        {
          "output_type": "stream",
          "name": "stdout",
          "text": [
            "ElasticNetCV Coefficients:\n",
            "[ 0.70996678  0.14753506 -0.          0.01376913  0.         -0.02003421\n",
            " -0.34064906 -0.2978102 ]\n"
          ]
        }
      ]
    },
    {
      "cell_type": "code",
      "source": [
        "elastic_cv = ElasticNetCV(cv=5, random_state=42, alphas=np.logspace(-3, 2, 50), l1_ratio=np.linspace(0.1, 1.0, 10))\n",
        "elastic_cv.fit(X_train, y_train)\n",
        "y_pred_elastic_cv = elastic_cv.predict(X_test)\n",
        "mse_elastic_cv = mean_squared_error(y_test, y_pred_elastic_cv)\n",
        "print(f'ElasticNetCV MSE: {mse_elastic_cv:.4f}')\n",
        "print(f'Best alpha: {elastic_cv.alpha_}')\n",
        "print(f'Best l1_ratio: {elastic_cv.l1_ratio_}')\n"
      ],
      "metadata": {
        "colab": {
          "base_uri": "https://localhost:8080/"
        },
        "id": "oqiAIyiZbz4o",
        "outputId": "11919dc4-1b5c-4a98-ad6c-892de9136ad4"
      },
      "execution_count": null,
      "outputs": [
        {
          "output_type": "stream",
          "name": "stdout",
          "text": [
            "ElasticNetCV MSE: 0.5545\n",
            "Best alpha: 0.001\n",
            "Best l1_ratio: 1.0\n"
          ]
        }
      ]
    }
  ]
}