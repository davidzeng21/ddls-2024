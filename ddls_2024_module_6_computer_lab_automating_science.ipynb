{
  "nbformat": 4,
  "nbformat_minor": 0,
  "metadata": {
    "colab": {
      "provenance": [],
      "toc_visible": true,
      "include_colab_link": true
    },
    "kernelspec": {
      "name": "python3",
      "display_name": "Python 3"
    },
    "language_info": {
      "name": "python"
    }
  },
  "cells": [
    {
      "cell_type": "markdown",
      "metadata": {
        "id": "view-in-github",
        "colab_type": "text"
      },
      "source": [
        "<a href=\"https://colab.research.google.com/github/davidzeng21/ddls-2024/blob/main/ddls_2024_module_6_computer_lab_automating_science.ipynb\" target=\"_parent\"><img src=\"https://colab.research.google.com/assets/colab-badge.svg\" alt=\"Open In Colab\"/></a>"
      ]
    },
    {
      "cell_type": "markdown",
      "source": [
        "# Module 6: Automating Scientific Discovery\n",
        "---\n",
        "\n",
        "Welcome to the practical session of [Data-Driven Life Sciences course module 6](https://ddls.aicell.io/course/ddls-2024/module-6/), created by Gabriel Reder. And, Professor Wei Ouyang, teaching assistants Songtao Cheng, and Nils Mechtel made some modifications.\n",
        "\n",
        "## Introduction\n",
        "This notebook will guide exploration of automating the experimental side of scientific discovery in the laboratory. The aim is to encourage thinking about everyday manual tasks in experiments that can be aided through the use of LLM models and AI systems boosting the power of laboratory robotics.\n",
        "\n",
        "**Authors**: Gabriel Reder (gk@reder.io)\n"
      ],
      "metadata": {
        "id": "lYT85KBKDaFo"
      }
    },
    {
      "cell_type": "markdown",
      "source": [
        "### Important Note for This Lab Notebook:\n",
        "\n",
        "- **🌞 Tasks Introduction:** Sections marked with a 🌞 symbol introduce an exercise or question. Please read these sections carefully to understand the concepts and tasks involved.\n",
        "\n",
        "- **⭐ Your Answer Here:** Cells marked with a ⭐ symbol indicate where you need to write your answer. Please provide your code or answer there."
      ],
      "metadata": {
        "id": "tcZDjd5eEDJ0"
      }
    },
    {
      "cell_type": "markdown",
      "source": [
        "## Installing dependencies\n",
        "We'll need the `opentrons` python package to simulate running protocols, so we'll install that now."
      ],
      "metadata": {
        "id": "tWwT2upGELXN"
      }
    },
    {
      "cell_type": "code",
      "execution_count": 3,
      "metadata": {
        "id": "JRk99LolBWGk",
        "colab": {
          "base_uri": "https://localhost:8080/"
        },
        "outputId": "868b761c-24ab-472b-e7c0-9d96dbc26e00"
      },
      "outputs": [
        {
          "output_type": "stream",
          "name": "stdout",
          "text": [
            "Requirement already satisfied: opentrons in /usr/local/lib/python3.10/dist-packages (8.0.0)\n",
            "Requirement already satisfied: opentrons-shared-data==8.0.0 in /usr/local/lib/python3.10/dist-packages (from opentrons) (8.0.0)\n",
            "Requirement already satisfied: aionotify==0.3.1 in /usr/local/lib/python3.10/dist-packages (from opentrons) (0.3.1)\n",
            "Requirement already satisfied: anyio<4.0.0,>=3.6.1 in /usr/local/lib/python3.10/dist-packages (from opentrons) (3.7.1)\n",
            "Requirement already satisfied: jsonschema<4.18.0,>=3.0.1 in /usr/local/lib/python3.10/dist-packages (from opentrons) (4.17.3)\n",
            "Requirement already satisfied: numpy<2,>=1.20.0 in /usr/local/lib/python3.10/dist-packages (from opentrons) (1.26.4)\n",
            "Requirement already satisfied: pydantic<2.0.0,>=1.10.9 in /usr/local/lib/python3.10/dist-packages (from opentrons) (1.10.18)\n",
            "Requirement already satisfied: pyserial>=3.5 in /usr/local/lib/python3.10/dist-packages (from opentrons) (3.5)\n",
            "Requirement already satisfied: typing-extensions<5,>=4.0.0 in /usr/local/lib/python3.10/dist-packages (from opentrons) (4.12.2)\n",
            "Requirement already satisfied: click<9,>=8.0.0 in /usr/local/lib/python3.10/dist-packages (from opentrons) (8.1.7)\n",
            "Requirement already satisfied: packaging>=21.0 in /usr/local/lib/python3.10/dist-packages (from opentrons) (24.1)\n",
            "Requirement already satisfied: idna>=2.8 in /usr/local/lib/python3.10/dist-packages (from anyio<4.0.0,>=3.6.1->opentrons) (3.10)\n",
            "Requirement already satisfied: sniffio>=1.1 in /usr/local/lib/python3.10/dist-packages (from anyio<4.0.0,>=3.6.1->opentrons) (1.3.1)\n",
            "Requirement already satisfied: exceptiongroup in /usr/local/lib/python3.10/dist-packages (from anyio<4.0.0,>=3.6.1->opentrons) (1.2.2)\n",
            "Requirement already satisfied: attrs>=17.4.0 in /usr/local/lib/python3.10/dist-packages (from jsonschema<4.18.0,>=3.0.1->opentrons) (24.2.0)\n",
            "Requirement already satisfied: pyrsistent!=0.17.0,!=0.17.1,!=0.17.2,>=0.14.0 in /usr/local/lib/python3.10/dist-packages (from jsonschema<4.18.0,>=3.0.1->opentrons) (0.20.0)\n"
          ]
        }
      ],
      "source": [
        "!pip install opentrons"
      ]
    },
    {
      "cell_type": "markdown",
      "source": [
        "# Creating robotic lab protocols\n",
        "\n",
        "## Opentron liquid handlers\n",
        "For this exercise, we'll suppose you are running a lab equipped with an Opentron flex liquid handling robot:\n",
        "\n",
        "<figure>\n",
        "<center>\n",
        "<img src=\"https://cdn11.bigcommerce.com/s-zmwgbev7rb/products/255/images/814/Flex-6__84033.1719413544.386.513.png?c=1\" width=\"350\">\n",
        "</figure>\n",
        "\n",
        "If you'd like to see the robot in action, take a look at this marketing [video](https://www.youtube.com/watch?v=d6ln-0LeT8A)"
      ],
      "metadata": {
        "id": "WJKs2mXeFKex"
      }
    },
    {
      "cell_type": "markdown",
      "source": [
        "## A sample Opentron protocol\n",
        "\n",
        "One thing that's nice about Opentrons is that they have a Python API, meaning we can write scripts to execute protocols directly on the robot. Take a look at the sample protocol below. Can you tell what's going on?"
      ],
      "metadata": {
        "id": "rWYWhrskGqDq"
      }
    },
    {
      "cell_type": "code",
      "source": [
        "%%writefile sample_protocol.py\n",
        "\n",
        "from opentrons import protocol_api\n",
        "\n",
        "requirements = {\"robotType\": \"Flex\", \"apiLevel\":\"2.19\"}\n",
        "\n",
        "def run(protocol: protocol_api.ProtocolContext):\n",
        "    plate = protocol.load_labware(\n",
        "        load_name=\"corning_96_wellplate_360ul_flat\",\n",
        "        location=\"D1\")\n",
        "    tiprack_1 = protocol.load_labware(\n",
        "        load_name=\"opentrons_flex_96_tiprack_200ul\",\n",
        "        location=\"D2\")\n",
        "    trash = protocol.load_trash_bin(\"A3\")\n",
        "    pipette = protocol.load_instrument(\n",
        "        instrument_name=\"flex_1channel_1000\",\n",
        "        mount=\"left\",\n",
        "    tip_racks=[tiprack_1])\n",
        "\n",
        "    pipette.pick_up_tip()\n",
        "    pipette.aspirate(100, plate[\"A1\"])\n",
        "    pipette.dispense(100, plate[\"B1\"])\n",
        "    pipette.drop_tip()"
      ],
      "metadata": {
        "id": "iHcwwrJhCD3p",
        "colab": {
          "base_uri": "https://localhost:8080/"
        },
        "outputId": "2e60f3a8-2f99-468f-cdb7-b2e7325d3d1b"
      },
      "execution_count": 4,
      "outputs": [
        {
          "output_type": "stream",
          "name": "stdout",
          "text": [
            "Overwriting sample_protocol.py\n"
          ]
        }
      ]
    },
    {
      "cell_type": "markdown",
      "source": [
        "🌞 <font color='orange'>**Exercises**:</font>\n",
        "\n",
        "**Note** - Do these exercises manually, do *not* use ChatGPT yet.\n",
        "\n",
        "1. Watch the opentron protocol designer [video](https://support.opentrons.com/s/article/How-to-write-a-basic-protocol-in-Protocol-Designer) to familiarize yourself with the robot and the environment. We're going to use the Python API directly rather than the `Protocol Designer` GUI. After watching the video, what do you think the protocol above is doing? Write a step-by-step plain text protocol that corresponds to what you think the protocol does.\n",
        "\n",
        "2. What do the `location` designations (e.g. `D1` and `D2`) in the script correspond to?\n",
        "\n",
        "3. Now familiarize yourself with the opentron [API](https://docs.opentrons.com/v2/) and pay special attention to the [Hardware Modules](https://docs.opentrons.com/v2/new_modules.html#) and the [Labware Library](https://labware.opentrons.com/). What is the difference between `Hardware` and `Labware` in the context of the opentron API?\n",
        "\n",
        "4. Find the API names for the following pieces of hardware/labware:\n",
        "  - Thermocycler module\n",
        "  - Magnetic block\n",
        "  - GEB 96 Tip Rack 10 $\\mu$L\n",
        "  - Thermo Scientific Nunc 96 Well Plate 1300 $\\mu$L\n",
        "\n"
      ],
      "metadata": {
        "id": "Tfuqi41lItnq"
      }
    },
    {
      "cell_type": "markdown",
      "source": [
        "---\n",
        "⭐ Double click to write down your answers here\n",
        "\n",
        "\n",
        "```\n",
        "Answer:\n",
        "\n",
        "1.\n",
        "  1. Define the robot, pipettes, and modules.\n",
        "  2. Define liquids.\n",
        "  3. Define deck setup.\n",
        "    Starting Deck State - allows us to see the state of a deck before any steps are performed.\n",
        "    Add Step - allows us to add liquid handling steps to the protocol.\n",
        "    Final Deck State - displays the state of the deck after all steps are performed.\n",
        "  4. Liquid transfer.\n",
        "    Move Labware - moves labware on or off the deck of the robot.\n",
        "    Transfer - moves liquid between labware.\n",
        "    Mix - mixes liquid in a specific well.\n",
        "    Pause - temporarily stops the robot for a specified amount of time and then resumes the protocol.\n",
        "  5. File export.\n",
        "  6. Demo of robot running.\n",
        "\n",
        "\n",
        "2. It corresponds to the slot on the deck.\n",
        "\n",
        "3. Hardware is the fixed settlement of the machine.\n",
        "   Labware is the one-time used items in the automatic process.\n",
        "\n",
        "4.\n",
        "    1. \"thermocyclerModuleV2\"\n",
        "    2. \"magneticBlockV1\"\n",
        "    3. \"geb_96_tiprack_10ul\"\n",
        "    4. \"thermoscientificnunc_96_wellplate_1300ul\"\n",
        "\n",
        "```\n",
        "---"
      ],
      "metadata": {
        "id": "ya_NSjH_PIEs"
      }
    },
    {
      "cell_type": "markdown",
      "source": [
        "## Simulating protocols\n",
        "\n",
        "The opentron API allows us to simulate protocols, even if we don't have a robot. Let's try this out on our sample protocol. Make sure you have executed the cell above containing the sample protocol. This will save the protocol to a colab file called `sample_protocol.py`\n",
        "\n",
        "Now, execute the cell below to simulate the sample protocol and see what it does."
      ],
      "metadata": {
        "id": "pf1YYjgKH9OT"
      }
    },
    {
      "cell_type": "code",
      "source": [
        "!opentrons_simulate sample_protocol.py"
      ],
      "metadata": {
        "id": "DfD8WShhC253",
        "colab": {
          "base_uri": "https://localhost:8080/"
        },
        "outputId": "64ad4326-a0df-4dbb-fc70-f05cd379fd0d"
      },
      "execution_count": 5,
      "outputs": [
        {
          "output_type": "stream",
          "name": "stdout",
          "text": [
            "/root/.opentrons/robot_settings.json not found. Loading defaults\n",
            "from_conf None default {<InstrumentProbeType.PRIMARY: 1>: '/data/pressure_sensor_data.csv'}\n",
            "Belt calibration not found.\n",
            "Picking up tip from A1 of Opentrons Flex 96 Tip Rack 200 µL on slot D2\n",
            "Aspirating 100.0 uL from A1 of Corning 96 Well Plate 360 µL Flat on slot D1 at 716.0 uL/sec\n",
            "Dispensing 100.0 uL into B1 of Corning 96 Well Plate 360 µL Flat on slot D1 at 716.0 uL/sec\n",
            "Dropping tip into Trash Bin on slot A3\n"
          ]
        }
      ]
    },
    {
      "cell_type": "markdown",
      "source": [
        "🌞 <font color='orange'>**Exercises**:</font>\n",
        "\n",
        "You've been given a 96-well plate where column 1 contains 300$\\mu$L of sample in each well of the column. You want to perform a serial dilution at 1:10 dilution factors across each column. So column 1 will contain the sample, column 2 will contain the sample diluted at 1:10, column 3 will be another 1:10 dilution (so 1:100 from the original sample) etc. You have the following working parameters for the protocol:\n",
        "\n",
        "  - You are diluting the sample into water. You have a reservoir of water available to you on the opentron.\n",
        "  - You want the final dilution column to be a 1:1000000 dilution from the original sample.\n",
        "  - Use version 2.19 of the opentron API\n",
        "  - Use an 8 channel pipette.\n",
        "  - You can order the opentron to aspirate/dispense from the first (top) well of a column using the 8 channel pipette and it will do so for the entire column. E.g. aspirating from well \"A1\" with an 8 channel pipette will aspirate from all wells in column 1.\n",
        "  - Use the same set of pipette tips for the entire dilution. So you only have to pick up tips once and drop them once over the course of the entire protocol.\n",
        "\n",
        "\n",
        "Use a combination of ChatGPT and the opentron API documentation to write a protocol that will perform this serial dilution on an opentron Flex using version 2.19 of the API. The newest ChatGPT should be somewhat familiar with the opentron API and should be able to write opentron python code. However, you may want to give it an example script to give hints about the specific structure and syntax you are looking to generate. You may also have to revise your script by hand using a combination of ChatGPT and the API documentation.\n",
        "\n",
        "The protocol must simulate succesfully."
      ],
      "metadata": {
        "id": "8wxESoXfPfxP"
      }
    },
    {
      "cell_type": "markdown",
      "source": [
        "⭐ Write your answer in the code cell below and use the simulation cell below that to try the protocol"
      ],
      "metadata": {
        "id": "y81IVyOPWiGW"
      }
    },
    {
      "cell_type": "code",
      "source": [
        "%%writefile serial_dilution.py\n",
        "\n",
        "from opentrons import protocol_api\n",
        "\n",
        "# Define metadata and requirements\n",
        "requirements = {\"robotType\": \"Flex\", \"apiLevel\": \"2.19\"}\n",
        "\n",
        "def run(protocol: protocol_api.ProtocolContext):\n",
        "    # ⭐ Load labware\n",
        "    plate = protocol.load_labware('corning_96_wellplate_360ul_flat', 'D1')  # 96-well plate in slot 1\n",
        "    tiprack = protocol.load_labware('opentrons_96_tiprack_300ul', 'D2')      # Tip rack in slot 2\n",
        "    reservoir = protocol.load_labware('nest_12_reservoir_15ml', 'D3')        # Reservoir with water in slot 3\n",
        "    trash = protocol.load_trash_bin(\"A3\")  # Use default trash\n",
        "\n",
        "    # ⭐ Load pipette\n",
        "    pipette = protocol.load_instrument('flex_8channel_1000', mount='left', tip_racks=[tiprack])\n",
        "\n",
        "    # ⭐ Variables\n",
        "    dilution_factor = 10\n",
        "    num_of_dilutions = 6\n",
        "    sample_volume = 30  # μL of sample to transfer from one column to the next\n",
        "    diluent_volume = 270  # μL of water in each column\n",
        "\n",
        "    # Pickup the pipette tips\n",
        "    pipette.pick_up_tip()\n",
        "\n",
        "    # Add diluent to columns 2 through 7 (270 µL of water in each well across all rows)\n",
        "    for col in range(2, num_of_dilutions + 2):  # Column 2 to 7\n",
        "        pipette.distribute(\n",
        "            diluent_volume,\n",
        "            reservoir['A1'],  # Assuming water is in well A1 of the reservoir\n",
        "            [plate.columns_by_name()[str(col)][0]],  # Distribute to all rows in the column\n",
        "            new_tip='never'\n",
        "        )\n",
        "\n",
        "    # Perform serial dilution across all rows in columns 1 to 6\n",
        "    for col in range(1, num_of_dilutions + 1):  # Columns 1 to 6\n",
        "        pipette.transfer(\n",
        "            sample_volume,\n",
        "            plate.columns_by_name()[str(col)][0],  # Source column\n",
        "            plate.columns_by_name()[str(col+1)][0],  # Destination column\n",
        "            mix_after=(3, 50),  # Mix after transferring to ensure proper dilution\n",
        "            new_tip='never'  # Reuse the same tips\n",
        "        )\n",
        "\n",
        "    # ⭐ Optional: Dispose of remaining sample from the last column to avoid overflow\n",
        "    pipette.blow_out(plate.columns_by_name()[str(num_of_dilutions+1)][0])\n",
        "\n",
        "    # Dispose of the tips\n",
        "    pipette.drop_tip(trash)\n"
      ],
      "metadata": {
        "id": "TU0SW6UJQ6zt",
        "colab": {
          "base_uri": "https://localhost:8080/"
        },
        "outputId": "31236a4d-eb18-4a86-bf9b-b0f60fda92ec"
      },
      "execution_count": 6,
      "outputs": [
        {
          "output_type": "stream",
          "name": "stdout",
          "text": [
            "Writing serial_dilution.py\n"
          ]
        }
      ]
    },
    {
      "cell_type": "code",
      "source": [
        "!opentrons_simulate serial_dilution.py"
      ],
      "metadata": {
        "id": "5s1ROxZlRAdR",
        "colab": {
          "base_uri": "https://localhost:8080/"
        },
        "outputId": "410a59e5-9b50-49a0-c933-a885c78ddb55"
      },
      "execution_count": 7,
      "outputs": [
        {
          "output_type": "stream",
          "name": "stdout",
          "text": [
            "/root/.opentrons/robot_settings.json not found. Loading defaults\n",
            "from_conf None default {<InstrumentProbeType.PRIMARY: 1>: '/data/pressure_sensor_data.csv'}\n",
            "Belt calibration not found.\n",
            "Picking up tip from A1 of Opentrons OT-2 96 Tip Rack 300 µL on slot D2\n",
            "Logs from this command:\n",
            "WARNING (instrument): The pipette p1000_multi_flex and its tip rack opentrons_96_tiprack_300ul appear to be mismatched. Please check your protocol.\n",
            "WARNING (instrument): The pipette p1000_multi_flex and its tip rack opentrons_96_tiprack_300ul appear to be mismatched. Please check your protocol.\n",
            "Distributing 270.0 from A1 of NEST 12 Well Reservoir 15 mL on slot D3 to A2 of Corning 96 Well Plate 360 µL Flat on slot D1\n",
            "\tTransferring 270.0 from A1 of NEST 12 Well Reservoir 15 mL on slot D3 to A2 of Corning 96 Well Plate 360 µL Flat on slot D1\n",
            "\t\tAspirating 275.0 uL from A1 of NEST 12 Well Reservoir 15 mL on slot D3 at 716.0 uL/sec\n",
            "\t\tDispensing 270.0 uL into A2 of Corning 96 Well Plate 360 µL Flat on slot D1 at 716.0 uL/sec\n",
            "\t\tBlowing out into Trash Bin on slot A3\n",
            "Distributing 270.0 from A1 of NEST 12 Well Reservoir 15 mL on slot D3 to A3 of Corning 96 Well Plate 360 µL Flat on slot D1\n",
            "\tTransferring 270.0 from A1 of NEST 12 Well Reservoir 15 mL on slot D3 to A3 of Corning 96 Well Plate 360 µL Flat on slot D1\n",
            "\t\tAspirating 275.0 uL from A1 of NEST 12 Well Reservoir 15 mL on slot D3 at 716.0 uL/sec\n",
            "\t\tDispensing 270.0 uL into A3 of Corning 96 Well Plate 360 µL Flat on slot D1 at 716.0 uL/sec\n",
            "\t\tBlowing out into Trash Bin on slot A3\n",
            "Distributing 270.0 from A1 of NEST 12 Well Reservoir 15 mL on slot D3 to A4 of Corning 96 Well Plate 360 µL Flat on slot D1\n",
            "\tTransferring 270.0 from A1 of NEST 12 Well Reservoir 15 mL on slot D3 to A4 of Corning 96 Well Plate 360 µL Flat on slot D1\n",
            "\t\tAspirating 275.0 uL from A1 of NEST 12 Well Reservoir 15 mL on slot D3 at 716.0 uL/sec\n",
            "\t\tDispensing 270.0 uL into A4 of Corning 96 Well Plate 360 µL Flat on slot D1 at 716.0 uL/sec\n",
            "\t\tBlowing out into Trash Bin on slot A3\n",
            "Distributing 270.0 from A1 of NEST 12 Well Reservoir 15 mL on slot D3 to A5 of Corning 96 Well Plate 360 µL Flat on slot D1\n",
            "\tTransferring 270.0 from A1 of NEST 12 Well Reservoir 15 mL on slot D3 to A5 of Corning 96 Well Plate 360 µL Flat on slot D1\n",
            "\t\tAspirating 275.0 uL from A1 of NEST 12 Well Reservoir 15 mL on slot D3 at 716.0 uL/sec\n",
            "\t\tDispensing 270.0 uL into A5 of Corning 96 Well Plate 360 µL Flat on slot D1 at 716.0 uL/sec\n",
            "\t\tBlowing out into Trash Bin on slot A3\n",
            "Distributing 270.0 from A1 of NEST 12 Well Reservoir 15 mL on slot D3 to A6 of Corning 96 Well Plate 360 µL Flat on slot D1\n",
            "\tTransferring 270.0 from A1 of NEST 12 Well Reservoir 15 mL on slot D3 to A6 of Corning 96 Well Plate 360 µL Flat on slot D1\n",
            "\t\tAspirating 275.0 uL from A1 of NEST 12 Well Reservoir 15 mL on slot D3 at 716.0 uL/sec\n",
            "\t\tDispensing 270.0 uL into A6 of Corning 96 Well Plate 360 µL Flat on slot D1 at 716.0 uL/sec\n",
            "\t\tBlowing out into Trash Bin on slot A3\n",
            "Distributing 270.0 from A1 of NEST 12 Well Reservoir 15 mL on slot D3 to A7 of Corning 96 Well Plate 360 µL Flat on slot D1\n",
            "\tTransferring 270.0 from A1 of NEST 12 Well Reservoir 15 mL on slot D3 to A7 of Corning 96 Well Plate 360 µL Flat on slot D1\n",
            "\t\tAspirating 275.0 uL from A1 of NEST 12 Well Reservoir 15 mL on slot D3 at 716.0 uL/sec\n",
            "\t\tDispensing 270.0 uL into A7 of Corning 96 Well Plate 360 µL Flat on slot D1 at 716.0 uL/sec\n",
            "\t\tBlowing out into Trash Bin on slot A3\n",
            "Transferring 30.0 from A1 of Corning 96 Well Plate 360 µL Flat on slot D1 to A2 of Corning 96 Well Plate 360 µL Flat on slot D1\n",
            "\tAspirating 30.0 uL from A1 of Corning 96 Well Plate 360 µL Flat on slot D1 at 716.0 uL/sec\n",
            "\tDispensing 30.0 uL into A2 of Corning 96 Well Plate 360 µL Flat on slot D1 at 716.0 uL/sec\n",
            "\tMixing 3 times with a volume of 50.0 ul\n",
            "\t\tAspirating 50.0 uL from A2 of Corning 96 Well Plate 360 µL Flat on slot D1 at 716.0 uL/sec\n",
            "\t\tDispensing 50.0 uL into A2 of Corning 96 Well Plate 360 µL Flat on slot D1 at 716.0 uL/sec\n",
            "\t\tAspirating 50.0 uL from A2 of Corning 96 Well Plate 360 µL Flat on slot D1 at 716.0 uL/sec\n",
            "\t\tDispensing 50.0 uL into A2 of Corning 96 Well Plate 360 µL Flat on slot D1 at 716.0 uL/sec\n",
            "\t\tAspirating 50.0 uL from A2 of Corning 96 Well Plate 360 µL Flat on slot D1 at 716.0 uL/sec\n",
            "\t\tDispensing 50.0 uL into A2 of Corning 96 Well Plate 360 µL Flat on slot D1 at 716.0 uL/sec\n",
            "Transferring 30.0 from A2 of Corning 96 Well Plate 360 µL Flat on slot D1 to A3 of Corning 96 Well Plate 360 µL Flat on slot D1\n",
            "\tAspirating 30.0 uL from A2 of Corning 96 Well Plate 360 µL Flat on slot D1 at 716.0 uL/sec\n",
            "\tDispensing 30.0 uL into A3 of Corning 96 Well Plate 360 µL Flat on slot D1 at 716.0 uL/sec\n",
            "\tMixing 3 times with a volume of 50.0 ul\n",
            "\t\tAspirating 50.0 uL from A3 of Corning 96 Well Plate 360 µL Flat on slot D1 at 716.0 uL/sec\n",
            "\t\tDispensing 50.0 uL into A3 of Corning 96 Well Plate 360 µL Flat on slot D1 at 716.0 uL/sec\n",
            "\t\tAspirating 50.0 uL from A3 of Corning 96 Well Plate 360 µL Flat on slot D1 at 716.0 uL/sec\n",
            "\t\tDispensing 50.0 uL into A3 of Corning 96 Well Plate 360 µL Flat on slot D1 at 716.0 uL/sec\n",
            "\t\tAspirating 50.0 uL from A3 of Corning 96 Well Plate 360 µL Flat on slot D1 at 716.0 uL/sec\n",
            "\t\tDispensing 50.0 uL into A3 of Corning 96 Well Plate 360 µL Flat on slot D1 at 716.0 uL/sec\n",
            "Transferring 30.0 from A3 of Corning 96 Well Plate 360 µL Flat on slot D1 to A4 of Corning 96 Well Plate 360 µL Flat on slot D1\n",
            "\tAspirating 30.0 uL from A3 of Corning 96 Well Plate 360 µL Flat on slot D1 at 716.0 uL/sec\n",
            "\tDispensing 30.0 uL into A4 of Corning 96 Well Plate 360 µL Flat on slot D1 at 716.0 uL/sec\n",
            "\tMixing 3 times with a volume of 50.0 ul\n",
            "\t\tAspirating 50.0 uL from A4 of Corning 96 Well Plate 360 µL Flat on slot D1 at 716.0 uL/sec\n",
            "\t\tDispensing 50.0 uL into A4 of Corning 96 Well Plate 360 µL Flat on slot D1 at 716.0 uL/sec\n",
            "\t\tAspirating 50.0 uL from A4 of Corning 96 Well Plate 360 µL Flat on slot D1 at 716.0 uL/sec\n",
            "\t\tDispensing 50.0 uL into A4 of Corning 96 Well Plate 360 µL Flat on slot D1 at 716.0 uL/sec\n",
            "\t\tAspirating 50.0 uL from A4 of Corning 96 Well Plate 360 µL Flat on slot D1 at 716.0 uL/sec\n",
            "\t\tDispensing 50.0 uL into A4 of Corning 96 Well Plate 360 µL Flat on slot D1 at 716.0 uL/sec\n",
            "Transferring 30.0 from A4 of Corning 96 Well Plate 360 µL Flat on slot D1 to A5 of Corning 96 Well Plate 360 µL Flat on slot D1\n",
            "\tAspirating 30.0 uL from A4 of Corning 96 Well Plate 360 µL Flat on slot D1 at 716.0 uL/sec\n",
            "\tDispensing 30.0 uL into A5 of Corning 96 Well Plate 360 µL Flat on slot D1 at 716.0 uL/sec\n",
            "\tMixing 3 times with a volume of 50.0 ul\n",
            "\t\tAspirating 50.0 uL from A5 of Corning 96 Well Plate 360 µL Flat on slot D1 at 716.0 uL/sec\n",
            "\t\tDispensing 50.0 uL into A5 of Corning 96 Well Plate 360 µL Flat on slot D1 at 716.0 uL/sec\n",
            "\t\tAspirating 50.0 uL from A5 of Corning 96 Well Plate 360 µL Flat on slot D1 at 716.0 uL/sec\n",
            "\t\tDispensing 50.0 uL into A5 of Corning 96 Well Plate 360 µL Flat on slot D1 at 716.0 uL/sec\n",
            "\t\tAspirating 50.0 uL from A5 of Corning 96 Well Plate 360 µL Flat on slot D1 at 716.0 uL/sec\n",
            "\t\tDispensing 50.0 uL into A5 of Corning 96 Well Plate 360 µL Flat on slot D1 at 716.0 uL/sec\n",
            "Transferring 30.0 from A5 of Corning 96 Well Plate 360 µL Flat on slot D1 to A6 of Corning 96 Well Plate 360 µL Flat on slot D1\n",
            "\tAspirating 30.0 uL from A5 of Corning 96 Well Plate 360 µL Flat on slot D1 at 716.0 uL/sec\n",
            "\tDispensing 30.0 uL into A6 of Corning 96 Well Plate 360 µL Flat on slot D1 at 716.0 uL/sec\n",
            "\tMixing 3 times with a volume of 50.0 ul\n",
            "\t\tAspirating 50.0 uL from A6 of Corning 96 Well Plate 360 µL Flat on slot D1 at 716.0 uL/sec\n",
            "\t\tDispensing 50.0 uL into A6 of Corning 96 Well Plate 360 µL Flat on slot D1 at 716.0 uL/sec\n",
            "\t\tAspirating 50.0 uL from A6 of Corning 96 Well Plate 360 µL Flat on slot D1 at 716.0 uL/sec\n",
            "\t\tDispensing 50.0 uL into A6 of Corning 96 Well Plate 360 µL Flat on slot D1 at 716.0 uL/sec\n",
            "\t\tAspirating 50.0 uL from A6 of Corning 96 Well Plate 360 µL Flat on slot D1 at 716.0 uL/sec\n",
            "\t\tDispensing 50.0 uL into A6 of Corning 96 Well Plate 360 µL Flat on slot D1 at 716.0 uL/sec\n",
            "Transferring 30.0 from A6 of Corning 96 Well Plate 360 µL Flat on slot D1 to A7 of Corning 96 Well Plate 360 µL Flat on slot D1\n",
            "\tAspirating 30.0 uL from A6 of Corning 96 Well Plate 360 µL Flat on slot D1 at 716.0 uL/sec\n",
            "\tDispensing 30.0 uL into A7 of Corning 96 Well Plate 360 µL Flat on slot D1 at 716.0 uL/sec\n",
            "\tMixing 3 times with a volume of 50.0 ul\n",
            "\t\tAspirating 50.0 uL from A7 of Corning 96 Well Plate 360 µL Flat on slot D1 at 716.0 uL/sec\n",
            "\t\tDispensing 50.0 uL into A7 of Corning 96 Well Plate 360 µL Flat on slot D1 at 716.0 uL/sec\n",
            "\t\tAspirating 50.0 uL from A7 of Corning 96 Well Plate 360 µL Flat on slot D1 at 716.0 uL/sec\n",
            "\t\tDispensing 50.0 uL into A7 of Corning 96 Well Plate 360 µL Flat on slot D1 at 716.0 uL/sec\n",
            "\t\tAspirating 50.0 uL from A7 of Corning 96 Well Plate 360 µL Flat on slot D1 at 716.0 uL/sec\n",
            "\t\tDispensing 50.0 uL into A7 of Corning 96 Well Plate 360 µL Flat on slot D1 at 716.0 uL/sec\n",
            "Blowing out at A7 of Corning 96 Well Plate 360 µL Flat on slot D1\n",
            "Dropping tip into Trash Bin on slot A3\n"
          ]
        }
      ]
    },
    {
      "cell_type": "markdown",
      "source": [
        "# Automating a real-life protocol\n",
        "\n",
        "Now we're going to explore how we can use the combination of lab robotics and LLMs to (partly) reproduce a real-world protocol.\n",
        "\n",
        "Our protocol will come from this [paper](https://www.ncbi.nlm.nih.gov/pmc/articles/PMC3185615/) testing the effects of various antifungal compounds on the formation of yeast biofilms.\n",
        "\n",
        "We will see how we can speed the process of experimentation using the tools we've been learning about.\n",
        "\n",
        "Watch the entire protocol [video](https://www.ncbi.nlm.nih.gov/pmc/articles/PMC3185615/bin/jove-44-2287-pmcvs_normal.mp4) to understand the purpose of the protocol and the steps involved."
      ],
      "metadata": {
        "id": "yK9Sx8kshXIk"
      }
    },
    {
      "cell_type": "markdown",
      "source": [
        "🌞 <font color='orange'>**Exercise**:</font>\n",
        "\n",
        "Say you've performed the protocol by hand up until the point of setting up the plate with yeast for biofilm formation (2:49 in the video). You now have your yeast culture prepared and a 96-well plate ready to use.\n",
        "\n",
        "Choose the lab equipment you'll have to use from the opentron hardware/labware lists and use appropriate prompts to ChatGPT to create a script that will perform the protocol steps in the video outlined from 2:49 to 3:06 using an opentron Flex. You can make the following assumptions:\n",
        "\n",
        "- You have prepared 80mL of diluted yeast sample and have transferred it to an appropriate reservoir.\n",
        "- At the end of this script run, you'll lid the plate and parafilm it by hand.\n",
        "- Use version 2.19 of the opentron API.\n",
        "- Use an 8 channel pipette.\n",
        "- You can order the opentron to aspirate/dispense from the first (top) well of a column using the 8 channel pipette and it will do so for the entire column. E.g. aspirating from well \"A1\" with an 8 channel pipette will aspirate from all wells in column 1.\n",
        "- Use the same set of pipette tips for the entire dilution. So you only have to pick up tips once and drop them once over the course of the entire protocol.\n",
        "\n",
        "Simulate the protocol and make sure it runs correctly."
      ],
      "metadata": {
        "id": "usDFaSjDh9ve"
      }
    },
    {
      "cell_type": "markdown",
      "source": [
        "⭐ Write your answer in the code cell below and use the simulation cell below that to try the protocol"
      ],
      "metadata": {
        "id": "qIfCs29Omo0A"
      }
    },
    {
      "cell_type": "code",
      "source": [
        "%%writefile yeast_plating.py\n",
        "\n",
        "from opentrons import protocol_api\n",
        "\n",
        "# Metadata and requirements\n",
        "requirements = {\"robotType\": \"Flex\", \"apiLevel\": \"2.19\"}\n",
        "\n",
        "def run(protocol: protocol_api.ProtocolContext):\n",
        "    # ⭐ Load labware\n",
        "    plate = protocol.load_labware('corning_96_wellplate_360ul_flat', 'D1')  # 96-well plate in slot 1\n",
        "    tiprack = protocol.load_labware('opentrons_96_tiprack_300ul', 'D2')      # Tip rack in slot 2\n",
        "    reservoir = protocol.load_labware('nest_12_reservoir_15ml', 'D3')        # Reservoir with yeast culture in slot 3\n",
        "    trash = protocol.load_trash_bin(\"A3\")   # Trash for used tips\n",
        "\n",
        "    # ⭐ Load pipette\n",
        "    pipette = protocol.load_instrument('flex_8channel_1000', mount='left', tip_racks=[tiprack])\n",
        "\n",
        "    # ⭐ Volume to transfer\n",
        "    transfer_volume = 100  # µL of yeast suspension to transfer\n",
        "\n",
        "    # Pick up the pipette tips\n",
        "    pipette.pick_up_tip()\n",
        "\n",
        "    # Transfer yeast sample to each well in columns 1 through 11 (excluding column 12)\n",
        "    for col in range(1, 12):  # Columns 1 to 11\n",
        "        pipette.transfer(\n",
        "            transfer_volume,\n",
        "            reservoir['A1'],  # Assuming yeast suspension is in well A1 of the reservoir\n",
        "            plate.columns_by_name()[str(col)],  # Transfer to all wells in the column\n",
        "            new_tip='never'  # Reuse the same tip\n",
        "        )\n",
        "\n",
        "    # Drop the pipette tips\n",
        "    pipette.drop_tip(trash)\n",
        "\n"
      ],
      "metadata": {
        "id": "hx2HqAkKRDCi",
        "colab": {
          "base_uri": "https://localhost:8080/"
        },
        "outputId": "01cfd333-0ad8-491f-ab54-8b5bedd0f13f"
      },
      "execution_count": 28,
      "outputs": [
        {
          "output_type": "stream",
          "name": "stdout",
          "text": [
            "Overwriting yeast_plating.py\n"
          ]
        }
      ]
    },
    {
      "cell_type": "code",
      "source": [
        "!opentrons_simulate yeast_plating.py"
      ],
      "metadata": {
        "id": "4TV9N3xbaZ6h",
        "colab": {
          "base_uri": "https://localhost:8080/"
        },
        "outputId": "45c0fa73-3a57-4298-e642-cee913327972"
      },
      "execution_count": 29,
      "outputs": [
        {
          "output_type": "stream",
          "name": "stdout",
          "text": [
            "/root/.opentrons/robot_settings.json not found. Loading defaults\n",
            "from_conf None default {<InstrumentProbeType.PRIMARY: 1>: '/data/pressure_sensor_data.csv'}\n",
            "Belt calibration not found.\n",
            "Picking up tip from A1 of Opentrons OT-2 96 Tip Rack 300 µL on slot D2\n",
            "Logs from this command:\n",
            "WARNING (instrument): The pipette p1000_multi_flex and its tip rack opentrons_96_tiprack_300ul appear to be mismatched. Please check your protocol.\n",
            "WARNING (instrument): The pipette p1000_multi_flex and its tip rack opentrons_96_tiprack_300ul appear to be mismatched. Please check your protocol.\n",
            "Transferring 100.0 from A1 of NEST 12 Well Reservoir 15 mL on slot D3 to A1 of Corning 96 Well Plate 360 µL Flat on slot D1\n",
            "\tAspirating 100.0 uL from A1 of NEST 12 Well Reservoir 15 mL on slot D3 at 716.0 uL/sec\n",
            "\tDispensing 100.0 uL into A1 of Corning 96 Well Plate 360 µL Flat on slot D1 at 716.0 uL/sec\n",
            "Transferring 100.0 from A1 of NEST 12 Well Reservoir 15 mL on slot D3 to A2 of Corning 96 Well Plate 360 µL Flat on slot D1\n",
            "\tAspirating 100.0 uL from A1 of NEST 12 Well Reservoir 15 mL on slot D3 at 716.0 uL/sec\n",
            "\tDispensing 100.0 uL into A2 of Corning 96 Well Plate 360 µL Flat on slot D1 at 716.0 uL/sec\n",
            "Transferring 100.0 from A1 of NEST 12 Well Reservoir 15 mL on slot D3 to A3 of Corning 96 Well Plate 360 µL Flat on slot D1\n",
            "\tAspirating 100.0 uL from A1 of NEST 12 Well Reservoir 15 mL on slot D3 at 716.0 uL/sec\n",
            "\tDispensing 100.0 uL into A3 of Corning 96 Well Plate 360 µL Flat on slot D1 at 716.0 uL/sec\n",
            "Transferring 100.0 from A1 of NEST 12 Well Reservoir 15 mL on slot D3 to A4 of Corning 96 Well Plate 360 µL Flat on slot D1\n",
            "\tAspirating 100.0 uL from A1 of NEST 12 Well Reservoir 15 mL on slot D3 at 716.0 uL/sec\n",
            "\tDispensing 100.0 uL into A4 of Corning 96 Well Plate 360 µL Flat on slot D1 at 716.0 uL/sec\n",
            "Transferring 100.0 from A1 of NEST 12 Well Reservoir 15 mL on slot D3 to A5 of Corning 96 Well Plate 360 µL Flat on slot D1\n",
            "\tAspirating 100.0 uL from A1 of NEST 12 Well Reservoir 15 mL on slot D3 at 716.0 uL/sec\n",
            "\tDispensing 100.0 uL into A5 of Corning 96 Well Plate 360 µL Flat on slot D1 at 716.0 uL/sec\n",
            "Transferring 100.0 from A1 of NEST 12 Well Reservoir 15 mL on slot D3 to A6 of Corning 96 Well Plate 360 µL Flat on slot D1\n",
            "\tAspirating 100.0 uL from A1 of NEST 12 Well Reservoir 15 mL on slot D3 at 716.0 uL/sec\n",
            "\tDispensing 100.0 uL into A6 of Corning 96 Well Plate 360 µL Flat on slot D1 at 716.0 uL/sec\n",
            "Transferring 100.0 from A1 of NEST 12 Well Reservoir 15 mL on slot D3 to A7 of Corning 96 Well Plate 360 µL Flat on slot D1\n",
            "\tAspirating 100.0 uL from A1 of NEST 12 Well Reservoir 15 mL on slot D3 at 716.0 uL/sec\n",
            "\tDispensing 100.0 uL into A7 of Corning 96 Well Plate 360 µL Flat on slot D1 at 716.0 uL/sec\n",
            "Transferring 100.0 from A1 of NEST 12 Well Reservoir 15 mL on slot D3 to A8 of Corning 96 Well Plate 360 µL Flat on slot D1\n",
            "\tAspirating 100.0 uL from A1 of NEST 12 Well Reservoir 15 mL on slot D3 at 716.0 uL/sec\n",
            "\tDispensing 100.0 uL into A8 of Corning 96 Well Plate 360 µL Flat on slot D1 at 716.0 uL/sec\n",
            "Transferring 100.0 from A1 of NEST 12 Well Reservoir 15 mL on slot D3 to A9 of Corning 96 Well Plate 360 µL Flat on slot D1\n",
            "\tAspirating 100.0 uL from A1 of NEST 12 Well Reservoir 15 mL on slot D3 at 716.0 uL/sec\n",
            "\tDispensing 100.0 uL into A9 of Corning 96 Well Plate 360 µL Flat on slot D1 at 716.0 uL/sec\n",
            "Transferring 100.0 from A1 of NEST 12 Well Reservoir 15 mL on slot D3 to A10 of Corning 96 Well Plate 360 µL Flat on slot D1\n",
            "\tAspirating 100.0 uL from A1 of NEST 12 Well Reservoir 15 mL on slot D3 at 716.0 uL/sec\n",
            "\tDispensing 100.0 uL into A10 of Corning 96 Well Plate 360 µL Flat on slot D1 at 716.0 uL/sec\n",
            "Transferring 100.0 from A1 of NEST 12 Well Reservoir 15 mL on slot D3 to A11 of Corning 96 Well Plate 360 µL Flat on slot D1\n",
            "\tAspirating 100.0 uL from A1 of NEST 12 Well Reservoir 15 mL on slot D3 at 716.0 uL/sec\n",
            "\tDispensing 100.0 uL into A11 of Corning 96 Well Plate 360 µL Flat on slot D1 at 716.0 uL/sec\n",
            "Dropping tip into Trash Bin on slot A3\n"
          ]
        }
      ]
    },
    {
      "cell_type": "markdown",
      "source": [
        "🌞 <font color='orange'>**Exercise**:</font>\n",
        "\n",
        "Now say you've continued the protocol, performing the incubation and washes by hand. You have prepared a stock solution of 1,024 $\\mu$g/mL fluconazole and a stock solution of buffered RPMI 1640 medium.\n",
        "\n",
        "Choose the lab equipment you'll have to use from the opentron hardware/labware lists and use appropriate prompts to ChatGPT to create a script that will perform the protocol steps for Antifungal Susceptibility Testing of Biofilms (3:57 to 5:04). You can make the following assumptions:\n",
        "\n",
        "- You have prepared 80mL of fluconazole and 80mL of media and have transferred them to appropriate reservoirs.\n",
        "- At the end of this script run, you'll lid the plate and parafilm it by hand.\n",
        "- Use version 2.19 of the opentron API.\n",
        "- Use an 8 channel pipette.\n",
        "- You can order the opentron to aspirate/dispense from the first (top) well of a column using the 8 channel pipette and it will do so for the entire column. E.g. aspirating from well \"A1\" with an 8 channel pipette will aspirate from all wells in column 1.\n",
        "- Use a *different* set of pipette tips for (1) dispensing the antifungal (2) dispensing the medium (3) performing the dilutions. So you should use a total of three set of tips (pick up / drop off operations) over the course of the protocol.\n",
        "\n",
        "Simulate the protocol and make sure it runs correctly."
      ],
      "metadata": {
        "id": "N4htB2GgadXm"
      }
    },
    {
      "cell_type": "code",
      "source": [
        "%%writefile antifungal_testing.py\n",
        "\n",
        "from opentrons import protocol_api\n",
        "\n",
        "# Metadata and requirements\n",
        "requirements = {\"robotType\": \"Flex\", \"apiLevel\": \"2.19\"}\n",
        "\n",
        "def run(protocol: protocol_api.ProtocolContext):\n",
        "    # ⭐ Load labware\n",
        "    plate = protocol.load_labware('corning_96_wellplate_360ul_flat', 'B1')  # 96-well plate in slot 1\n",
        "    tiprack_antifungal = protocol.load_labware('opentrons_96_tiprack_300ul', 'B2')  # Tip rack 1 for antifungal\n",
        "    tiprack_media = protocol.load_labware('opentrons_96_tiprack_300ul', 'B3')       # Tip rack 2 for media\n",
        "    tiprack_serial = protocol.load_labware('opentrons_96_tiprack_300ul', 'D1')      # Tip rack 3 for serial dilution\n",
        "    fluconazole_reservoir = protocol.load_labware('nest_12_reservoir_15ml', 'D2')   # Fluconazole in slot 5\n",
        "    media_reservoir = protocol.load_labware('nest_12_reservoir_15ml', 'D3')         # RPMI 1640 in slot 6\n",
        "    trash = protocol.load_trash_bin(\"A3\") # Trash for used tips\n",
        "\n",
        "    # ⭐ Load pipette\n",
        "    pipette = protocol.load_instrument('flex_8channel_1000', mount='left', tip_racks=[tiprack_antifungal, tiprack_media, tiprack_serial])\n",
        "\n",
        "    # ⭐ Volume definitions\n",
        "    antifungal_volume = 200  # µL for fluconazole\n",
        "    media_volume = 100       # µL for RPMI 1640\n",
        "    transfer_volume = 100    # µL for serial dilution transfer\n",
        "\n",
        "    # Step 1: Add 200 µL of fluconazole to wells in column 1\n",
        "    pipette.pick_up_tip(tiprack_antifungal.wells()[0])\n",
        "    pipette.transfer(\n",
        "        antifungal_volume,\n",
        "        fluconazole_reservoir['A1'],\n",
        "        plate.columns_by_name()['1'],  # Transfer to all wells in column 1\n",
        "        new_tip='never'\n",
        "    )\n",
        "    pipette.drop_tip()\n",
        "\n",
        "    # Step 2: Add 100 µL of media to wells in columns 2 to 10 and column 11\n",
        "    pipette.pick_up_tip(tiprack_media.wells()[0])\n",
        "    for col in range(2, 12):  # Columns 2 to 11\n",
        "        pipette.transfer(\n",
        "            media_volume,\n",
        "            media_reservoir['A1'],\n",
        "            plate.columns_by_name()[str(col)],  # Transfer to all wells in column 2 to 11\n",
        "            new_tip='never'\n",
        "        )\n",
        "    pipette.drop_tip()\n",
        "\n",
        "    # Step 3: Perform serial dilution from column 1 to column 10\n",
        "    pipette.pick_up_tip(tiprack_serial.wells()[0])\n",
        "    for col in range(1, 10):  # Columns 1 to 9 for serial dilution\n",
        "        pipette.transfer(\n",
        "            transfer_volume,\n",
        "            plate.columns_by_name()[str(col)],  # Source column\n",
        "            plate.columns_by_name()[str(col + 1)],  # Destination column\n",
        "            mix_after=(3, 100),  # Mix well after transfer\n",
        "            new_tip='never'  # Reuse the same tip\n",
        "        )\n",
        "\n",
        "\n",
        "\n",
        "\n",
        "    # Column 11 remains untouched at the end\n"
      ],
      "metadata": {
        "id": "Nc4basvTpb2M",
        "colab": {
          "base_uri": "https://localhost:8080/"
        },
        "outputId": "4cca0abe-dc1a-4982-e361-400b30b8439f"
      },
      "execution_count": 34,
      "outputs": [
        {
          "output_type": "stream",
          "name": "stdout",
          "text": [
            "Overwriting antifungal_testing.py\n"
          ]
        }
      ]
    },
    {
      "cell_type": "code",
      "source": [
        "!opentrons_simulate antifungal_testing.py"
      ],
      "metadata": {
        "id": "1uoFrM14pcv8",
        "colab": {
          "base_uri": "https://localhost:8080/"
        },
        "outputId": "17ec2542-715e-4470-b9dd-ef9409b5cd0c"
      },
      "execution_count": 35,
      "outputs": [
        {
          "output_type": "stream",
          "name": "stdout",
          "text": [
            "/root/.opentrons/robot_settings.json not found. Loading defaults\n",
            "from_conf None default {<InstrumentProbeType.PRIMARY: 1>: '/data/pressure_sensor_data.csv'}\n",
            "Belt calibration not found.\n",
            "Picking up tip from A1 of Opentrons OT-2 96 Tip Rack 300 µL on slot B2\n",
            "Logs from this command:\n",
            "WARNING (instrument): The pipette p1000_multi_flex and its tip rack opentrons_96_tiprack_300ul appear to be mismatched. Please check your protocol.\n",
            "WARNING (instrument): The pipette p1000_multi_flex and its tip rack opentrons_96_tiprack_300ul appear to be mismatched. Please check your protocol.\n",
            "WARNING (instrument): The pipette p1000_multi_flex and its tip rack opentrons_96_tiprack_300ul appear to be mismatched. Please check your protocol.\n",
            "WARNING (instrument): The pipette p1000_multi_flex and its tip rack opentrons_96_tiprack_300ul appear to be mismatched. Please check your protocol.\n",
            "Transferring 200.0 from A1 of NEST 12 Well Reservoir 15 mL on slot D2 to A1 of Corning 96 Well Plate 360 µL Flat on slot B1\n",
            "\tAspirating 200.0 uL from A1 of NEST 12 Well Reservoir 15 mL on slot D2 at 716.0 uL/sec\n",
            "\tDispensing 200.0 uL into A1 of Corning 96 Well Plate 360 µL Flat on slot B1 at 716.0 uL/sec\n",
            "Dropping tip into Trash Bin on slot A3\n",
            "Picking up tip from A1 of Opentrons OT-2 96 Tip Rack 300 µL on slot B3\n",
            "Logs from this command:\n",
            "WARNING (instrument): The pipette p1000_multi_flex and its tip rack opentrons_96_tiprack_300ul appear to be mismatched. Please check your protocol.\n",
            "Transferring 100.0 from A1 of NEST 12 Well Reservoir 15 mL on slot D3 to A2 of Corning 96 Well Plate 360 µL Flat on slot B1\n",
            "\tAspirating 100.0 uL from A1 of NEST 12 Well Reservoir 15 mL on slot D3 at 716.0 uL/sec\n",
            "\tDispensing 100.0 uL into A2 of Corning 96 Well Plate 360 µL Flat on slot B1 at 716.0 uL/sec\n",
            "Transferring 100.0 from A1 of NEST 12 Well Reservoir 15 mL on slot D3 to A3 of Corning 96 Well Plate 360 µL Flat on slot B1\n",
            "\tAspirating 100.0 uL from A1 of NEST 12 Well Reservoir 15 mL on slot D3 at 716.0 uL/sec\n",
            "\tDispensing 100.0 uL into A3 of Corning 96 Well Plate 360 µL Flat on slot B1 at 716.0 uL/sec\n",
            "Transferring 100.0 from A1 of NEST 12 Well Reservoir 15 mL on slot D3 to A4 of Corning 96 Well Plate 360 µL Flat on slot B1\n",
            "\tAspirating 100.0 uL from A1 of NEST 12 Well Reservoir 15 mL on slot D3 at 716.0 uL/sec\n",
            "\tDispensing 100.0 uL into A4 of Corning 96 Well Plate 360 µL Flat on slot B1 at 716.0 uL/sec\n",
            "Transferring 100.0 from A1 of NEST 12 Well Reservoir 15 mL on slot D3 to A5 of Corning 96 Well Plate 360 µL Flat on slot B1\n",
            "\tAspirating 100.0 uL from A1 of NEST 12 Well Reservoir 15 mL on slot D3 at 716.0 uL/sec\n",
            "\tDispensing 100.0 uL into A5 of Corning 96 Well Plate 360 µL Flat on slot B1 at 716.0 uL/sec\n",
            "Transferring 100.0 from A1 of NEST 12 Well Reservoir 15 mL on slot D3 to A6 of Corning 96 Well Plate 360 µL Flat on slot B1\n",
            "\tAspirating 100.0 uL from A1 of NEST 12 Well Reservoir 15 mL on slot D3 at 716.0 uL/sec\n",
            "\tDispensing 100.0 uL into A6 of Corning 96 Well Plate 360 µL Flat on slot B1 at 716.0 uL/sec\n",
            "Transferring 100.0 from A1 of NEST 12 Well Reservoir 15 mL on slot D3 to A7 of Corning 96 Well Plate 360 µL Flat on slot B1\n",
            "\tAspirating 100.0 uL from A1 of NEST 12 Well Reservoir 15 mL on slot D3 at 716.0 uL/sec\n",
            "\tDispensing 100.0 uL into A7 of Corning 96 Well Plate 360 µL Flat on slot B1 at 716.0 uL/sec\n",
            "Transferring 100.0 from A1 of NEST 12 Well Reservoir 15 mL on slot D3 to A8 of Corning 96 Well Plate 360 µL Flat on slot B1\n",
            "\tAspirating 100.0 uL from A1 of NEST 12 Well Reservoir 15 mL on slot D3 at 716.0 uL/sec\n",
            "\tDispensing 100.0 uL into A8 of Corning 96 Well Plate 360 µL Flat on slot B1 at 716.0 uL/sec\n",
            "Transferring 100.0 from A1 of NEST 12 Well Reservoir 15 mL on slot D3 to A9 of Corning 96 Well Plate 360 µL Flat on slot B1\n",
            "\tAspirating 100.0 uL from A1 of NEST 12 Well Reservoir 15 mL on slot D3 at 716.0 uL/sec\n",
            "\tDispensing 100.0 uL into A9 of Corning 96 Well Plate 360 µL Flat on slot B1 at 716.0 uL/sec\n",
            "Transferring 100.0 from A1 of NEST 12 Well Reservoir 15 mL on slot D3 to A10 of Corning 96 Well Plate 360 µL Flat on slot B1\n",
            "\tAspirating 100.0 uL from A1 of NEST 12 Well Reservoir 15 mL on slot D3 at 716.0 uL/sec\n",
            "\tDispensing 100.0 uL into A10 of Corning 96 Well Plate 360 µL Flat on slot B1 at 716.0 uL/sec\n",
            "Transferring 100.0 from A1 of NEST 12 Well Reservoir 15 mL on slot D3 to A11 of Corning 96 Well Plate 360 µL Flat on slot B1\n",
            "\tAspirating 100.0 uL from A1 of NEST 12 Well Reservoir 15 mL on slot D3 at 716.0 uL/sec\n",
            "\tDispensing 100.0 uL into A11 of Corning 96 Well Plate 360 µL Flat on slot B1 at 716.0 uL/sec\n",
            "Dropping tip into Trash Bin on slot A3\n",
            "Picking up tip from A1 of Opentrons OT-2 96 Tip Rack 300 µL on slot D1\n",
            "Logs from this command:\n",
            "WARNING (instrument): The pipette p1000_multi_flex and its tip rack opentrons_96_tiprack_300ul appear to be mismatched. Please check your protocol.\n",
            "Transferring 100.0 from A1 of Corning 96 Well Plate 360 µL Flat on slot B1 to A2 of Corning 96 Well Plate 360 µL Flat on slot B1\n",
            "\tAspirating 100.0 uL from A1 of Corning 96 Well Plate 360 µL Flat on slot B1 at 716.0 uL/sec\n",
            "\tDispensing 100.0 uL into A2 of Corning 96 Well Plate 360 µL Flat on slot B1 at 716.0 uL/sec\n",
            "\tMixing 3 times with a volume of 100.0 ul\n",
            "\t\tAspirating 100.0 uL from A2 of Corning 96 Well Plate 360 µL Flat on slot B1 at 716.0 uL/sec\n",
            "\t\tDispensing 100.0 uL into A2 of Corning 96 Well Plate 360 µL Flat on slot B1 at 716.0 uL/sec\n",
            "\t\tAspirating 100.0 uL from A2 of Corning 96 Well Plate 360 µL Flat on slot B1 at 716.0 uL/sec\n",
            "\t\tDispensing 100.0 uL into A2 of Corning 96 Well Plate 360 µL Flat on slot B1 at 716.0 uL/sec\n",
            "\t\tAspirating 100.0 uL from A2 of Corning 96 Well Plate 360 µL Flat on slot B1 at 716.0 uL/sec\n",
            "\t\tDispensing 100.0 uL into A2 of Corning 96 Well Plate 360 µL Flat on slot B1 at 716.0 uL/sec\n",
            "Transferring 100.0 from A2 of Corning 96 Well Plate 360 µL Flat on slot B1 to A3 of Corning 96 Well Plate 360 µL Flat on slot B1\n",
            "\tAspirating 100.0 uL from A2 of Corning 96 Well Plate 360 µL Flat on slot B1 at 716.0 uL/sec\n",
            "\tDispensing 100.0 uL into A3 of Corning 96 Well Plate 360 µL Flat on slot B1 at 716.0 uL/sec\n",
            "\tMixing 3 times with a volume of 100.0 ul\n",
            "\t\tAspirating 100.0 uL from A3 of Corning 96 Well Plate 360 µL Flat on slot B1 at 716.0 uL/sec\n",
            "\t\tDispensing 100.0 uL into A3 of Corning 96 Well Plate 360 µL Flat on slot B1 at 716.0 uL/sec\n",
            "\t\tAspirating 100.0 uL from A3 of Corning 96 Well Plate 360 µL Flat on slot B1 at 716.0 uL/sec\n",
            "\t\tDispensing 100.0 uL into A3 of Corning 96 Well Plate 360 µL Flat on slot B1 at 716.0 uL/sec\n",
            "\t\tAspirating 100.0 uL from A3 of Corning 96 Well Plate 360 µL Flat on slot B1 at 716.0 uL/sec\n",
            "\t\tDispensing 100.0 uL into A3 of Corning 96 Well Plate 360 µL Flat on slot B1 at 716.0 uL/sec\n",
            "Transferring 100.0 from A3 of Corning 96 Well Plate 360 µL Flat on slot B1 to A4 of Corning 96 Well Plate 360 µL Flat on slot B1\n",
            "\tAspirating 100.0 uL from A3 of Corning 96 Well Plate 360 µL Flat on slot B1 at 716.0 uL/sec\n",
            "\tDispensing 100.0 uL into A4 of Corning 96 Well Plate 360 µL Flat on slot B1 at 716.0 uL/sec\n",
            "\tMixing 3 times with a volume of 100.0 ul\n",
            "\t\tAspirating 100.0 uL from A4 of Corning 96 Well Plate 360 µL Flat on slot B1 at 716.0 uL/sec\n",
            "\t\tDispensing 100.0 uL into A4 of Corning 96 Well Plate 360 µL Flat on slot B1 at 716.0 uL/sec\n",
            "\t\tAspirating 100.0 uL from A4 of Corning 96 Well Plate 360 µL Flat on slot B1 at 716.0 uL/sec\n",
            "\t\tDispensing 100.0 uL into A4 of Corning 96 Well Plate 360 µL Flat on slot B1 at 716.0 uL/sec\n",
            "\t\tAspirating 100.0 uL from A4 of Corning 96 Well Plate 360 µL Flat on slot B1 at 716.0 uL/sec\n",
            "\t\tDispensing 100.0 uL into A4 of Corning 96 Well Plate 360 µL Flat on slot B1 at 716.0 uL/sec\n",
            "Transferring 100.0 from A4 of Corning 96 Well Plate 360 µL Flat on slot B1 to A5 of Corning 96 Well Plate 360 µL Flat on slot B1\n",
            "\tAspirating 100.0 uL from A4 of Corning 96 Well Plate 360 µL Flat on slot B1 at 716.0 uL/sec\n",
            "\tDispensing 100.0 uL into A5 of Corning 96 Well Plate 360 µL Flat on slot B1 at 716.0 uL/sec\n",
            "\tMixing 3 times with a volume of 100.0 ul\n",
            "\t\tAspirating 100.0 uL from A5 of Corning 96 Well Plate 360 µL Flat on slot B1 at 716.0 uL/sec\n",
            "\t\tDispensing 100.0 uL into A5 of Corning 96 Well Plate 360 µL Flat on slot B1 at 716.0 uL/sec\n",
            "\t\tAspirating 100.0 uL from A5 of Corning 96 Well Plate 360 µL Flat on slot B1 at 716.0 uL/sec\n",
            "\t\tDispensing 100.0 uL into A5 of Corning 96 Well Plate 360 µL Flat on slot B1 at 716.0 uL/sec\n",
            "\t\tAspirating 100.0 uL from A5 of Corning 96 Well Plate 360 µL Flat on slot B1 at 716.0 uL/sec\n",
            "\t\tDispensing 100.0 uL into A5 of Corning 96 Well Plate 360 µL Flat on slot B1 at 716.0 uL/sec\n",
            "Transferring 100.0 from A5 of Corning 96 Well Plate 360 µL Flat on slot B1 to A6 of Corning 96 Well Plate 360 µL Flat on slot B1\n",
            "\tAspirating 100.0 uL from A5 of Corning 96 Well Plate 360 µL Flat on slot B1 at 716.0 uL/sec\n",
            "\tDispensing 100.0 uL into A6 of Corning 96 Well Plate 360 µL Flat on slot B1 at 716.0 uL/sec\n",
            "\tMixing 3 times with a volume of 100.0 ul\n",
            "\t\tAspirating 100.0 uL from A6 of Corning 96 Well Plate 360 µL Flat on slot B1 at 716.0 uL/sec\n",
            "\t\tDispensing 100.0 uL into A6 of Corning 96 Well Plate 360 µL Flat on slot B1 at 716.0 uL/sec\n",
            "\t\tAspirating 100.0 uL from A6 of Corning 96 Well Plate 360 µL Flat on slot B1 at 716.0 uL/sec\n",
            "\t\tDispensing 100.0 uL into A6 of Corning 96 Well Plate 360 µL Flat on slot B1 at 716.0 uL/sec\n",
            "\t\tAspirating 100.0 uL from A6 of Corning 96 Well Plate 360 µL Flat on slot B1 at 716.0 uL/sec\n",
            "\t\tDispensing 100.0 uL into A6 of Corning 96 Well Plate 360 µL Flat on slot B1 at 716.0 uL/sec\n",
            "Transferring 100.0 from A6 of Corning 96 Well Plate 360 µL Flat on slot B1 to A7 of Corning 96 Well Plate 360 µL Flat on slot B1\n",
            "\tAspirating 100.0 uL from A6 of Corning 96 Well Plate 360 µL Flat on slot B1 at 716.0 uL/sec\n",
            "\tDispensing 100.0 uL into A7 of Corning 96 Well Plate 360 µL Flat on slot B1 at 716.0 uL/sec\n",
            "\tMixing 3 times with a volume of 100.0 ul\n",
            "\t\tAspirating 100.0 uL from A7 of Corning 96 Well Plate 360 µL Flat on slot B1 at 716.0 uL/sec\n",
            "\t\tDispensing 100.0 uL into A7 of Corning 96 Well Plate 360 µL Flat on slot B1 at 716.0 uL/sec\n",
            "\t\tAspirating 100.0 uL from A7 of Corning 96 Well Plate 360 µL Flat on slot B1 at 716.0 uL/sec\n",
            "\t\tDispensing 100.0 uL into A7 of Corning 96 Well Plate 360 µL Flat on slot B1 at 716.0 uL/sec\n",
            "\t\tAspirating 100.0 uL from A7 of Corning 96 Well Plate 360 µL Flat on slot B1 at 716.0 uL/sec\n",
            "\t\tDispensing 100.0 uL into A7 of Corning 96 Well Plate 360 µL Flat on slot B1 at 716.0 uL/sec\n",
            "Transferring 100.0 from A7 of Corning 96 Well Plate 360 µL Flat on slot B1 to A8 of Corning 96 Well Plate 360 µL Flat on slot B1\n",
            "\tAspirating 100.0 uL from A7 of Corning 96 Well Plate 360 µL Flat on slot B1 at 716.0 uL/sec\n",
            "\tDispensing 100.0 uL into A8 of Corning 96 Well Plate 360 µL Flat on slot B1 at 716.0 uL/sec\n",
            "\tMixing 3 times with a volume of 100.0 ul\n",
            "\t\tAspirating 100.0 uL from A8 of Corning 96 Well Plate 360 µL Flat on slot B1 at 716.0 uL/sec\n",
            "\t\tDispensing 100.0 uL into A8 of Corning 96 Well Plate 360 µL Flat on slot B1 at 716.0 uL/sec\n",
            "\t\tAspirating 100.0 uL from A8 of Corning 96 Well Plate 360 µL Flat on slot B1 at 716.0 uL/sec\n",
            "\t\tDispensing 100.0 uL into A8 of Corning 96 Well Plate 360 µL Flat on slot B1 at 716.0 uL/sec\n",
            "\t\tAspirating 100.0 uL from A8 of Corning 96 Well Plate 360 µL Flat on slot B1 at 716.0 uL/sec\n",
            "\t\tDispensing 100.0 uL into A8 of Corning 96 Well Plate 360 µL Flat on slot B1 at 716.0 uL/sec\n",
            "Transferring 100.0 from A8 of Corning 96 Well Plate 360 µL Flat on slot B1 to A9 of Corning 96 Well Plate 360 µL Flat on slot B1\n",
            "\tAspirating 100.0 uL from A8 of Corning 96 Well Plate 360 µL Flat on slot B1 at 716.0 uL/sec\n",
            "\tDispensing 100.0 uL into A9 of Corning 96 Well Plate 360 µL Flat on slot B1 at 716.0 uL/sec\n",
            "\tMixing 3 times with a volume of 100.0 ul\n",
            "\t\tAspirating 100.0 uL from A9 of Corning 96 Well Plate 360 µL Flat on slot B1 at 716.0 uL/sec\n",
            "\t\tDispensing 100.0 uL into A9 of Corning 96 Well Plate 360 µL Flat on slot B1 at 716.0 uL/sec\n",
            "\t\tAspirating 100.0 uL from A9 of Corning 96 Well Plate 360 µL Flat on slot B1 at 716.0 uL/sec\n",
            "\t\tDispensing 100.0 uL into A9 of Corning 96 Well Plate 360 µL Flat on slot B1 at 716.0 uL/sec\n",
            "\t\tAspirating 100.0 uL from A9 of Corning 96 Well Plate 360 µL Flat on slot B1 at 716.0 uL/sec\n",
            "\t\tDispensing 100.0 uL into A9 of Corning 96 Well Plate 360 µL Flat on slot B1 at 716.0 uL/sec\n",
            "Transferring 100.0 from A9 of Corning 96 Well Plate 360 µL Flat on slot B1 to A10 of Corning 96 Well Plate 360 µL Flat on slot B1\n",
            "\tAspirating 100.0 uL from A9 of Corning 96 Well Plate 360 µL Flat on slot B1 at 716.0 uL/sec\n",
            "\tDispensing 100.0 uL into A10 of Corning 96 Well Plate 360 µL Flat on slot B1 at 716.0 uL/sec\n",
            "\tMixing 3 times with a volume of 100.0 ul\n",
            "\t\tAspirating 100.0 uL from A10 of Corning 96 Well Plate 360 µL Flat on slot B1 at 716.0 uL/sec\n",
            "\t\tDispensing 100.0 uL into A10 of Corning 96 Well Plate 360 µL Flat on slot B1 at 716.0 uL/sec\n",
            "\t\tAspirating 100.0 uL from A10 of Corning 96 Well Plate 360 µL Flat on slot B1 at 716.0 uL/sec\n",
            "\t\tDispensing 100.0 uL into A10 of Corning 96 Well Plate 360 µL Flat on slot B1 at 716.0 uL/sec\n",
            "\t\tAspirating 100.0 uL from A10 of Corning 96 Well Plate 360 µL Flat on slot B1 at 716.0 uL/sec\n",
            "\t\tDispensing 100.0 uL into A10 of Corning 96 Well Plate 360 µL Flat on slot B1 at 716.0 uL/sec\n"
          ]
        }
      ]
    },
    {
      "cell_type": "markdown",
      "source": [
        "🌞 <font color='orange'>**Discussion Exercises**:</font>\n",
        "\n",
        "1. What were the benefits of using ChatGPT for writing these protocols? What was it able to do succesfully and what did you have to do by hand?\n",
        "\n",
        "2. Look at the entire protocol from the paper [video](https://www.ncbi.nlm.nih.gov/pmc/articles/PMC3185615/bin/jove-44-2287-pmcvs_normal.mp4) again. What additional portions do you think you would be able to automate on the opentron? What parts could you automate with more advanced robotic hardware? What parts (if any) are do you think can't be reliably done using robotics?\n",
        "\n",
        "3. Looking at the output of your simulations, can you propose a way in which you could have LLMs write protocols then use the simulation output to revise the protocol accordingly?"
      ],
      "metadata": {
        "id": "hLyEyTJtpm1s"
      }
    },
    {
      "cell_type": "markdown",
      "source": [
        "---\n",
        "⭐ Double click to write down your answers here\n",
        "\n",
        "\n",
        "```\n",
        "Answer:\n",
        "\n",
        "1. It can help me generate a brief architecture of the codes. It's fast and easy to use. I only need to focus on the specific parameters in most circumstances.\n",
        "\n",
        "2.\n",
        "  Parts of the Protocol That Can Be Automated with the Opentrons Robot:\n",
        "    Aspirating medium and washing plates with PBS: After biofilm formation, careful aspiration of medium followed by PBS washes can also be handled with the Opentrons, with the right speed and volume settings to avoid disrupting biofilms. This may also require some fine-tuning based on experimental conditions, but it is a common automation task.\n",
        "  Parts That Could Be Automated with More Advanced Robotic Hardware:\n",
        "    Centrifugation and Cell Washing (Step 1):    The steps involving centrifugation and washing cells can be partially automated using robotic centrifuges or liquid-handling stations integrated with robotic arms for tube handling. However, the Opentrons itself would need to be integrated with such external hardware, as it doesn't handle centrifugation or vortexing directly.\n",
        "    Mixing Cells and Counting: Automated systems for cell counting (e.g., integrated cell counters or imaging systems) could be used to automate the cell counting step before plating. However, this would require additional hardware beyond the standard Opentrons Flex configuration.\n",
        "    Incubation with Controlled Conditions (Step 2): While the Opentrons can automate the liquid handling steps, incubating plates at specific temperatures and times could be managed by advanced robotic systems that integrate plate handling and incubation tasks. Some systems have robotic incubators that automatically take plates in and out.\n",
        "  Parts That Are Difficult to Automate Reliably:\n",
        "    Aseptic Techniques for Handling Cultures (Step 1): While basic liquid handling steps can be automated, ensuring aseptic conditions, particularly when handling live cultures, remains challenging. Robotic systems often struggle with maintaining sterile environments unless they are housed in a controlled environment such as a biosafety cabinet. Human oversight is still critical for aseptic techniques.\n",
        "    Visual Inspection of Biofilm Formation: While automation could theoretically handle a lot of liquid handling and even imaging, confirming biofilm formation by visual inspection (e.g., using an inverted microscope) still requires human judgment for quality control, especially when determining the extent of biofilm formation.\n",
        "    Handling Fragile Biofilms: Biofilms can be fragile and sensitive to disruption during medium exchanges. Automating these steps without disrupting the biofilm can be tricky, and a gentle approach would be necessary. Some advanced systems may be able to do this, but careful calibration and validation would be required.\n",
        "3.  \n",
        "    Generate Initial Protocol: The LLM creates an initial protocol based on inputs like the lab hardware, reagents, and the desired outcome.\n",
        "    Simulate and Analyze: The Opentrons simulator runs the protocol and generates logs.\n",
        "    Feedback Loop: The LLM reads the simulation logs and adjusts the protocol, flagging errors like pipette mismatches, calibration issues, or unexpected volumes.\n",
        "    Re-run Simulations: Once corrections are applied, the revised protocol is re-simulated to check for further improvements.\n",
        "    Iterative Revision: This process continues until the protocol runs error-free and meets predefined performance criteria.\n",
        "\n",
        "```\n",
        "---"
      ],
      "metadata": {
        "id": "BSPdLmagJmQT"
      }
    }
  ]
}